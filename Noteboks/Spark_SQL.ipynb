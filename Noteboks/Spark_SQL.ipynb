{
  "nbformat": 4,
  "nbformat_minor": 0,
  "metadata": {
    "colab": {
      "provenance": []
    },
    "kernelspec": {
      "name": "python3",
      "display_name": "Python 3"
    },
    "language_info": {
      "name": "python"
    }
  },
  "cells": [
    {
      "cell_type": "code",
      "execution_count": 2,
      "metadata": {
        "id": "EFZ54Ire8oJi"
      },
      "outputs": [],
      "source": [
        "# Install Java\n",
        "!apt-get install openjdk-8-jdk-headless -qq > /dev/null\n",
        "\n",
        "# Download Spark from a reliable mirror (e.g., sourceforge or other trusted mirrors)\n",
        "!wget -q https://archive.apache.org/dist/spark/spark-3.4.1/spark-3.4.1-bin-hadoop3.tgz\n",
        "\n",
        "# Extract the Spark archive\n",
        "!tar xf spark-3.4.1-bin-hadoop3.tgz\n",
        "\n",
        "# Install findspark to locate Spark on your system\n",
        "!pip install -q findspark\n"
      ]
    },
    {
      "cell_type": "code",
      "source": [
        "import os\n",
        "os.environ[\"JAVA_HOME\"] = \"/usr/lib/jvm/java-8-openjdk-amd64\"\n",
        "os.environ[\"SPARK_HOME\"] = \"/content/spark-3.4.1-bin-hadoop3\"\n"
      ],
      "metadata": {
        "id": "NQDngS5AAIH7"
      },
      "execution_count": 3,
      "outputs": []
    },
    {
      "cell_type": "code",
      "source": [
        "import findspark\n",
        "findspark.init()\n",
        "\n",
        "from pyspark.sql import SparkSession\n",
        "spark = SparkSession.builder.appName(\"SparkSQL\").getOrCreate()\n"
      ],
      "metadata": {
        "id": "DFUFNcypR3GU"
      },
      "execution_count": 4,
      "outputs": []
    },
    {
      "cell_type": "code",
      "source": [
        "from google.colab import drive\n",
        "drive.mount('/content/drive')"
      ],
      "metadata": {
        "id": "JYbUNpvhD9Oz",
        "colab": {
          "base_uri": "https://localhost:8080/"
        },
        "outputId": "c1395a86-55fe-4ed8-96d6-897d8c76e8d5"
      },
      "execution_count": 5,
      "outputs": [
        {
          "output_type": "stream",
          "name": "stdout",
          "text": [
            "Mounted at /content/drive\n"
          ]
        }
      ]
    },
    {
      "cell_type": "code",
      "source": [
        "file_path = \"/content/drive/MyDrive/Merged_dataset.xlsx\"\n"
      ],
      "metadata": {
        "id": "0zYzIG_AFhc_"
      },
      "execution_count": 6,
      "outputs": []
    },
    {
      "cell_type": "code",
      "source": [
        "import pandas as pd\n",
        "\n",
        "file_path = \"/content/drive/MyDrive/Merged_dataset.xlsx\"\n",
        "pdf = pd.read_excel(file_path)\n",
        "pdf.head()"
      ],
      "metadata": {
        "id": "aXn254RoSLyw",
        "colab": {
          "base_uri": "https://localhost:8080/",
          "height": 256
        },
        "outputId": "a173eefa-71d5-4a00-c146-939a80fed1b9"
      },
      "execution_count": 7,
      "outputs": [
        {
          "output_type": "execute_result",
          "data": {
            "text/plain": [
              "                           order_id                       customer_id  \\\n",
              "0  e481f51cbdc54678b7cc49136f2d6af7  9ef432eb6251297304e76186b10a928d   \n",
              "1  e481f51cbdc54678b7cc49136f2d6af7  9ef432eb6251297304e76186b10a928d   \n",
              "2  e481f51cbdc54678b7cc49136f2d6af7  9ef432eb6251297304e76186b10a928d   \n",
              "3  128e10d95713541c87cd1a2e48201934  a20e8105f23924cd00833fd87daa0831   \n",
              "4  0e7e841ddf8f8f2de2bad69267ecfbcf  26c7ac168e1433912a51b924fbd34d34   \n",
              "\n",
              "  order_status order_purchase_timestamp    order_approved_at  \\\n",
              "0    delivered      2017-10-02 10:56:33  2017-10-02 11:07:15   \n",
              "1    delivered      2017-10-02 10:56:33  2017-10-02 11:07:15   \n",
              "2    delivered      2017-10-02 10:56:33  2017-10-02 11:07:15   \n",
              "3    delivered      2017-08-15 18:29:31  2017-08-15 20:05:16   \n",
              "4    delivered      2017-08-02 18:24:47  2017-08-02 18:43:15   \n",
              "\n",
              "  order_delivered_carrier_date order_delivered_customer_date  \\\n",
              "0          2017-10-04 19:55:00           2017-10-10 21:25:13   \n",
              "1          2017-10-04 19:55:00           2017-10-10 21:25:13   \n",
              "2          2017-10-04 19:55:00           2017-10-10 21:25:13   \n",
              "3          2017-08-17 15:28:33           2017-08-18 14:44:43   \n",
              "4          2017-08-04 17:35:43           2017-08-07 18:30:01   \n",
              "\n",
              "  order_estimated_delivery_date  order_item_id  \\\n",
              "0           2017-10-18 00:00:00              1   \n",
              "1           2017-10-18 00:00:00              1   \n",
              "2           2017-10-18 00:00:00              1   \n",
              "3           2017-08-28 00:00:00              1   \n",
              "4           2017-08-15 00:00:00              1   \n",
              "\n",
              "                         product_id  ... product_length_cm product_height_cm  \\\n",
              "0  87285b34884572647811a353c7ac498a  ...                19                 8   \n",
              "1  87285b34884572647811a353c7ac498a  ...                19                 8   \n",
              "2  87285b34884572647811a353c7ac498a  ...                19                 8   \n",
              "3  87285b34884572647811a353c7ac498a  ...                19                 8   \n",
              "4  87285b34884572647811a353c7ac498a  ...                19                 8   \n",
              "\n",
              "   product_width_cm                customer_unique_id  \\\n",
              "0                13  7c396fd4830fd04220f754e42b4e5bff   \n",
              "1                13  7c396fd4830fd04220f754e42b4e5bff   \n",
              "2                13  7c396fd4830fd04220f754e42b4e5bff   \n",
              "3                13  3a51803cc0d012c3b5dc8b7528cb05f7   \n",
              "4                13  ef0996a1a279c26e7ecbd737be23d235   \n",
              "\n",
              "   customer_zip_code_prefix customer_city  customer_state  \\\n",
              "0                      3149     sao paulo              SP   \n",
              "1                      3149     sao paulo              SP   \n",
              "2                      3149     sao paulo              SP   \n",
              "3                      3366     sao paulo              SP   \n",
              "4                      2290     sao paulo              SP   \n",
              "\n",
              "   seller_zip_code_prefix seller_city  seller_state  \n",
              "0                    9350        maua            SP  \n",
              "1                    9350        maua            SP  \n",
              "2                    9350        maua            SP  \n",
              "3                    9350        maua            SP  \n",
              "4                    9350        maua            SP  \n",
              "\n",
              "[5 rows x 38 columns]"
            ],
            "text/html": [
              "\n",
              "  <div id=\"df-6583eb90-615f-4e7e-bce4-679b3d514798\" class=\"colab-df-container\">\n",
              "    <div>\n",
              "<style scoped>\n",
              "    .dataframe tbody tr th:only-of-type {\n",
              "        vertical-align: middle;\n",
              "    }\n",
              "\n",
              "    .dataframe tbody tr th {\n",
              "        vertical-align: top;\n",
              "    }\n",
              "\n",
              "    .dataframe thead th {\n",
              "        text-align: right;\n",
              "    }\n",
              "</style>\n",
              "<table border=\"1\" class=\"dataframe\">\n",
              "  <thead>\n",
              "    <tr style=\"text-align: right;\">\n",
              "      <th></th>\n",
              "      <th>order_id</th>\n",
              "      <th>customer_id</th>\n",
              "      <th>order_status</th>\n",
              "      <th>order_purchase_timestamp</th>\n",
              "      <th>order_approved_at</th>\n",
              "      <th>order_delivered_carrier_date</th>\n",
              "      <th>order_delivered_customer_date</th>\n",
              "      <th>order_estimated_delivery_date</th>\n",
              "      <th>order_item_id</th>\n",
              "      <th>product_id</th>\n",
              "      <th>...</th>\n",
              "      <th>product_length_cm</th>\n",
              "      <th>product_height_cm</th>\n",
              "      <th>product_width_cm</th>\n",
              "      <th>customer_unique_id</th>\n",
              "      <th>customer_zip_code_prefix</th>\n",
              "      <th>customer_city</th>\n",
              "      <th>customer_state</th>\n",
              "      <th>seller_zip_code_prefix</th>\n",
              "      <th>seller_city</th>\n",
              "      <th>seller_state</th>\n",
              "    </tr>\n",
              "  </thead>\n",
              "  <tbody>\n",
              "    <tr>\n",
              "      <th>0</th>\n",
              "      <td>e481f51cbdc54678b7cc49136f2d6af7</td>\n",
              "      <td>9ef432eb6251297304e76186b10a928d</td>\n",
              "      <td>delivered</td>\n",
              "      <td>2017-10-02 10:56:33</td>\n",
              "      <td>2017-10-02 11:07:15</td>\n",
              "      <td>2017-10-04 19:55:00</td>\n",
              "      <td>2017-10-10 21:25:13</td>\n",
              "      <td>2017-10-18 00:00:00</td>\n",
              "      <td>1</td>\n",
              "      <td>87285b34884572647811a353c7ac498a</td>\n",
              "      <td>...</td>\n",
              "      <td>19</td>\n",
              "      <td>8</td>\n",
              "      <td>13</td>\n",
              "      <td>7c396fd4830fd04220f754e42b4e5bff</td>\n",
              "      <td>3149</td>\n",
              "      <td>sao paulo</td>\n",
              "      <td>SP</td>\n",
              "      <td>9350</td>\n",
              "      <td>maua</td>\n",
              "      <td>SP</td>\n",
              "    </tr>\n",
              "    <tr>\n",
              "      <th>1</th>\n",
              "      <td>e481f51cbdc54678b7cc49136f2d6af7</td>\n",
              "      <td>9ef432eb6251297304e76186b10a928d</td>\n",
              "      <td>delivered</td>\n",
              "      <td>2017-10-02 10:56:33</td>\n",
              "      <td>2017-10-02 11:07:15</td>\n",
              "      <td>2017-10-04 19:55:00</td>\n",
              "      <td>2017-10-10 21:25:13</td>\n",
              "      <td>2017-10-18 00:00:00</td>\n",
              "      <td>1</td>\n",
              "      <td>87285b34884572647811a353c7ac498a</td>\n",
              "      <td>...</td>\n",
              "      <td>19</td>\n",
              "      <td>8</td>\n",
              "      <td>13</td>\n",
              "      <td>7c396fd4830fd04220f754e42b4e5bff</td>\n",
              "      <td>3149</td>\n",
              "      <td>sao paulo</td>\n",
              "      <td>SP</td>\n",
              "      <td>9350</td>\n",
              "      <td>maua</td>\n",
              "      <td>SP</td>\n",
              "    </tr>\n",
              "    <tr>\n",
              "      <th>2</th>\n",
              "      <td>e481f51cbdc54678b7cc49136f2d6af7</td>\n",
              "      <td>9ef432eb6251297304e76186b10a928d</td>\n",
              "      <td>delivered</td>\n",
              "      <td>2017-10-02 10:56:33</td>\n",
              "      <td>2017-10-02 11:07:15</td>\n",
              "      <td>2017-10-04 19:55:00</td>\n",
              "      <td>2017-10-10 21:25:13</td>\n",
              "      <td>2017-10-18 00:00:00</td>\n",
              "      <td>1</td>\n",
              "      <td>87285b34884572647811a353c7ac498a</td>\n",
              "      <td>...</td>\n",
              "      <td>19</td>\n",
              "      <td>8</td>\n",
              "      <td>13</td>\n",
              "      <td>7c396fd4830fd04220f754e42b4e5bff</td>\n",
              "      <td>3149</td>\n",
              "      <td>sao paulo</td>\n",
              "      <td>SP</td>\n",
              "      <td>9350</td>\n",
              "      <td>maua</td>\n",
              "      <td>SP</td>\n",
              "    </tr>\n",
              "    <tr>\n",
              "      <th>3</th>\n",
              "      <td>128e10d95713541c87cd1a2e48201934</td>\n",
              "      <td>a20e8105f23924cd00833fd87daa0831</td>\n",
              "      <td>delivered</td>\n",
              "      <td>2017-08-15 18:29:31</td>\n",
              "      <td>2017-08-15 20:05:16</td>\n",
              "      <td>2017-08-17 15:28:33</td>\n",
              "      <td>2017-08-18 14:44:43</td>\n",
              "      <td>2017-08-28 00:00:00</td>\n",
              "      <td>1</td>\n",
              "      <td>87285b34884572647811a353c7ac498a</td>\n",
              "      <td>...</td>\n",
              "      <td>19</td>\n",
              "      <td>8</td>\n",
              "      <td>13</td>\n",
              "      <td>3a51803cc0d012c3b5dc8b7528cb05f7</td>\n",
              "      <td>3366</td>\n",
              "      <td>sao paulo</td>\n",
              "      <td>SP</td>\n",
              "      <td>9350</td>\n",
              "      <td>maua</td>\n",
              "      <td>SP</td>\n",
              "    </tr>\n",
              "    <tr>\n",
              "      <th>4</th>\n",
              "      <td>0e7e841ddf8f8f2de2bad69267ecfbcf</td>\n",
              "      <td>26c7ac168e1433912a51b924fbd34d34</td>\n",
              "      <td>delivered</td>\n",
              "      <td>2017-08-02 18:24:47</td>\n",
              "      <td>2017-08-02 18:43:15</td>\n",
              "      <td>2017-08-04 17:35:43</td>\n",
              "      <td>2017-08-07 18:30:01</td>\n",
              "      <td>2017-08-15 00:00:00</td>\n",
              "      <td>1</td>\n",
              "      <td>87285b34884572647811a353c7ac498a</td>\n",
              "      <td>...</td>\n",
              "      <td>19</td>\n",
              "      <td>8</td>\n",
              "      <td>13</td>\n",
              "      <td>ef0996a1a279c26e7ecbd737be23d235</td>\n",
              "      <td>2290</td>\n",
              "      <td>sao paulo</td>\n",
              "      <td>SP</td>\n",
              "      <td>9350</td>\n",
              "      <td>maua</td>\n",
              "      <td>SP</td>\n",
              "    </tr>\n",
              "  </tbody>\n",
              "</table>\n",
              "<p>5 rows × 38 columns</p>\n",
              "</div>\n",
              "    <div class=\"colab-df-buttons\">\n",
              "\n",
              "  <div class=\"colab-df-container\">\n",
              "    <button class=\"colab-df-convert\" onclick=\"convertToInteractive('df-6583eb90-615f-4e7e-bce4-679b3d514798')\"\n",
              "            title=\"Convert this dataframe to an interactive table.\"\n",
              "            style=\"display:none;\">\n",
              "\n",
              "  <svg xmlns=\"http://www.w3.org/2000/svg\" height=\"24px\" viewBox=\"0 -960 960 960\">\n",
              "    <path d=\"M120-120v-720h720v720H120Zm60-500h600v-160H180v160Zm220 220h160v-160H400v160Zm0 220h160v-160H400v160ZM180-400h160v-160H180v160Zm440 0h160v-160H620v160ZM180-180h160v-160H180v160Zm440 0h160v-160H620v160Z\"/>\n",
              "  </svg>\n",
              "    </button>\n",
              "\n",
              "  <style>\n",
              "    .colab-df-container {\n",
              "      display:flex;\n",
              "      gap: 12px;\n",
              "    }\n",
              "\n",
              "    .colab-df-convert {\n",
              "      background-color: #E8F0FE;\n",
              "      border: none;\n",
              "      border-radius: 50%;\n",
              "      cursor: pointer;\n",
              "      display: none;\n",
              "      fill: #1967D2;\n",
              "      height: 32px;\n",
              "      padding: 0 0 0 0;\n",
              "      width: 32px;\n",
              "    }\n",
              "\n",
              "    .colab-df-convert:hover {\n",
              "      background-color: #E2EBFA;\n",
              "      box-shadow: 0px 1px 2px rgba(60, 64, 67, 0.3), 0px 1px 3px 1px rgba(60, 64, 67, 0.15);\n",
              "      fill: #174EA6;\n",
              "    }\n",
              "\n",
              "    .colab-df-buttons div {\n",
              "      margin-bottom: 4px;\n",
              "    }\n",
              "\n",
              "    [theme=dark] .colab-df-convert {\n",
              "      background-color: #3B4455;\n",
              "      fill: #D2E3FC;\n",
              "    }\n",
              "\n",
              "    [theme=dark] .colab-df-convert:hover {\n",
              "      background-color: #434B5C;\n",
              "      box-shadow: 0px 1px 3px 1px rgba(0, 0, 0, 0.15);\n",
              "      filter: drop-shadow(0px 1px 2px rgba(0, 0, 0, 0.3));\n",
              "      fill: #FFFFFF;\n",
              "    }\n",
              "  </style>\n",
              "\n",
              "    <script>\n",
              "      const buttonEl =\n",
              "        document.querySelector('#df-6583eb90-615f-4e7e-bce4-679b3d514798 button.colab-df-convert');\n",
              "      buttonEl.style.display =\n",
              "        google.colab.kernel.accessAllowed ? 'block' : 'none';\n",
              "\n",
              "      async function convertToInteractive(key) {\n",
              "        const element = document.querySelector('#df-6583eb90-615f-4e7e-bce4-679b3d514798');\n",
              "        const dataTable =\n",
              "          await google.colab.kernel.invokeFunction('convertToInteractive',\n",
              "                                                    [key], {});\n",
              "        if (!dataTable) return;\n",
              "\n",
              "        const docLinkHtml = 'Like what you see? Visit the ' +\n",
              "          '<a target=\"_blank\" href=https://colab.research.google.com/notebooks/data_table.ipynb>data table notebook</a>'\n",
              "          + ' to learn more about interactive tables.';\n",
              "        element.innerHTML = '';\n",
              "        dataTable['output_type'] = 'display_data';\n",
              "        await google.colab.output.renderOutput(dataTable, element);\n",
              "        const docLink = document.createElement('div');\n",
              "        docLink.innerHTML = docLinkHtml;\n",
              "        element.appendChild(docLink);\n",
              "      }\n",
              "    </script>\n",
              "  </div>\n",
              "\n",
              "\n",
              "    <div id=\"df-eb4d5de0-fd48-41fa-9343-297263ae594a\">\n",
              "      <button class=\"colab-df-quickchart\" onclick=\"quickchart('df-eb4d5de0-fd48-41fa-9343-297263ae594a')\"\n",
              "                title=\"Suggest charts\"\n",
              "                style=\"display:none;\">\n",
              "\n",
              "<svg xmlns=\"http://www.w3.org/2000/svg\" height=\"24px\"viewBox=\"0 0 24 24\"\n",
              "     width=\"24px\">\n",
              "    <g>\n",
              "        <path d=\"M19 3H5c-1.1 0-2 .9-2 2v14c0 1.1.9 2 2 2h14c1.1 0 2-.9 2-2V5c0-1.1-.9-2-2-2zM9 17H7v-7h2v7zm4 0h-2V7h2v10zm4 0h-2v-4h2v4z\"/>\n",
              "    </g>\n",
              "</svg>\n",
              "      </button>\n",
              "\n",
              "<style>\n",
              "  .colab-df-quickchart {\n",
              "      --bg-color: #E8F0FE;\n",
              "      --fill-color: #1967D2;\n",
              "      --hover-bg-color: #E2EBFA;\n",
              "      --hover-fill-color: #174EA6;\n",
              "      --disabled-fill-color: #AAA;\n",
              "      --disabled-bg-color: #DDD;\n",
              "  }\n",
              "\n",
              "  [theme=dark] .colab-df-quickchart {\n",
              "      --bg-color: #3B4455;\n",
              "      --fill-color: #D2E3FC;\n",
              "      --hover-bg-color: #434B5C;\n",
              "      --hover-fill-color: #FFFFFF;\n",
              "      --disabled-bg-color: #3B4455;\n",
              "      --disabled-fill-color: #666;\n",
              "  }\n",
              "\n",
              "  .colab-df-quickchart {\n",
              "    background-color: var(--bg-color);\n",
              "    border: none;\n",
              "    border-radius: 50%;\n",
              "    cursor: pointer;\n",
              "    display: none;\n",
              "    fill: var(--fill-color);\n",
              "    height: 32px;\n",
              "    padding: 0;\n",
              "    width: 32px;\n",
              "  }\n",
              "\n",
              "  .colab-df-quickchart:hover {\n",
              "    background-color: var(--hover-bg-color);\n",
              "    box-shadow: 0 1px 2px rgba(60, 64, 67, 0.3), 0 1px 3px 1px rgba(60, 64, 67, 0.15);\n",
              "    fill: var(--button-hover-fill-color);\n",
              "  }\n",
              "\n",
              "  .colab-df-quickchart-complete:disabled,\n",
              "  .colab-df-quickchart-complete:disabled:hover {\n",
              "    background-color: var(--disabled-bg-color);\n",
              "    fill: var(--disabled-fill-color);\n",
              "    box-shadow: none;\n",
              "  }\n",
              "\n",
              "  .colab-df-spinner {\n",
              "    border: 2px solid var(--fill-color);\n",
              "    border-color: transparent;\n",
              "    border-bottom-color: var(--fill-color);\n",
              "    animation:\n",
              "      spin 1s steps(1) infinite;\n",
              "  }\n",
              "\n",
              "  @keyframes spin {\n",
              "    0% {\n",
              "      border-color: transparent;\n",
              "      border-bottom-color: var(--fill-color);\n",
              "      border-left-color: var(--fill-color);\n",
              "    }\n",
              "    20% {\n",
              "      border-color: transparent;\n",
              "      border-left-color: var(--fill-color);\n",
              "      border-top-color: var(--fill-color);\n",
              "    }\n",
              "    30% {\n",
              "      border-color: transparent;\n",
              "      border-left-color: var(--fill-color);\n",
              "      border-top-color: var(--fill-color);\n",
              "      border-right-color: var(--fill-color);\n",
              "    }\n",
              "    40% {\n",
              "      border-color: transparent;\n",
              "      border-right-color: var(--fill-color);\n",
              "      border-top-color: var(--fill-color);\n",
              "    }\n",
              "    60% {\n",
              "      border-color: transparent;\n",
              "      border-right-color: var(--fill-color);\n",
              "    }\n",
              "    80% {\n",
              "      border-color: transparent;\n",
              "      border-right-color: var(--fill-color);\n",
              "      border-bottom-color: var(--fill-color);\n",
              "    }\n",
              "    90% {\n",
              "      border-color: transparent;\n",
              "      border-bottom-color: var(--fill-color);\n",
              "    }\n",
              "  }\n",
              "</style>\n",
              "\n",
              "      <script>\n",
              "        async function quickchart(key) {\n",
              "          const quickchartButtonEl =\n",
              "            document.querySelector('#' + key + ' button');\n",
              "          quickchartButtonEl.disabled = true;  // To prevent multiple clicks.\n",
              "          quickchartButtonEl.classList.add('colab-df-spinner');\n",
              "          try {\n",
              "            const charts = await google.colab.kernel.invokeFunction(\n",
              "                'suggestCharts', [key], {});\n",
              "          } catch (error) {\n",
              "            console.error('Error during call to suggestCharts:', error);\n",
              "          }\n",
              "          quickchartButtonEl.classList.remove('colab-df-spinner');\n",
              "          quickchartButtonEl.classList.add('colab-df-quickchart-complete');\n",
              "        }\n",
              "        (() => {\n",
              "          let quickchartButtonEl =\n",
              "            document.querySelector('#df-eb4d5de0-fd48-41fa-9343-297263ae594a button');\n",
              "          quickchartButtonEl.style.display =\n",
              "            google.colab.kernel.accessAllowed ? 'block' : 'none';\n",
              "        })();\n",
              "      </script>\n",
              "    </div>\n",
              "\n",
              "    </div>\n",
              "  </div>\n"
            ],
            "application/vnd.google.colaboratory.intrinsic+json": {
              "type": "dataframe",
              "variable_name": "pdf"
            }
          },
          "metadata": {},
          "execution_count": 7
        }
      ]
    },
    {
      "cell_type": "code",
      "source": [
        "df = spark.createDataFrame(pdf)"
      ],
      "metadata": {
        "id": "wicONhC9SOxO"
      },
      "execution_count": 8,
      "outputs": []
    },
    {
      "cell_type": "code",
      "source": [
        "df.show(5)"
      ],
      "metadata": {
        "id": "053sZfSxS0QJ",
        "colab": {
          "base_uri": "https://localhost:8080/"
        },
        "outputId": "0b6a4e3e-fa80-497f-b002-4ea2a3795388"
      },
      "execution_count": 9,
      "outputs": [
        {
          "output_type": "stream",
          "name": "stdout",
          "text": [
            "+--------------------+--------------------+------------+------------------------+-------------------+----------------------------+-----------------------------+-----------------------------+-------------+--------------------+--------------------+-------------------+-----+-------------+------------------+------------+--------------------+-------------+--------------------+------------+--------------------+-----------------------+--------------------+---------------------+-------------------+--------------------------+------------------+----------------+-----------------+-----------------+----------------+--------------------+------------------------+-------------+--------------+----------------------+-----------+------------+\n",
            "|            order_id|         customer_id|order_status|order_purchase_timestamp|  order_approved_at|order_delivered_carrier_date|order_delivered_customer_date|order_estimated_delivery_date|order_item_id|          product_id|           seller_id|shipping_limit_date|price|freight_value|payment_sequential|payment_type|payment_installments|payment_value|           review_id|review_score|review_creation_date|review_answer_timestamp|              review|product_category_name|product_name_lenght|product_description_lenght|product_photos_qty|product_weight_g|product_length_cm|product_height_cm|product_width_cm|  customer_unique_id|customer_zip_code_prefix|customer_city|customer_state|seller_zip_code_prefix|seller_city|seller_state|\n",
            "+--------------------+--------------------+------------+------------------------+-------------------+----------------------------+-----------------------------+-----------------------------+-------------+--------------------+--------------------+-------------------+-----+-------------+------------------+------------+--------------------+-------------+--------------------+------------+--------------------+-----------------------+--------------------+---------------------+-------------------+--------------------------+------------------+----------------+-----------------+-----------------+----------------+--------------------+------------------------+-------------+--------------+----------------------+-----------+------------+\n",
            "|e481f51cbdc54678b...|9ef432eb625129730...|   delivered|     2017-10-02 10:56:33|2017-10-02 11:07:15|         2017-10-04 19:55:00|          2017-10-10 21:25:13|          2017-10-18 00:00:00|            1|87285b34884572647...|3504c0cb71d7fa48d...|2017-10-06 11:07:15|29.99|         8.72|                 1| credit_card|                   1|        18.12|a54f0611adc9ed256...|           4|             43019.0|            43020.15542|Excellent quality...| utilidades_domest...|                 40|                       268|                 4|             500|               19|                8|              13|7c396fd4830fd0422...|                    3149|    sao paulo|            SP|                  9350|       maua|          SP|\n",
            "|e481f51cbdc54678b...|9ef432eb625129730...|   delivered|     2017-10-02 10:56:33|2017-10-02 11:07:15|         2017-10-04 19:55:00|          2017-10-10 21:25:13|          2017-10-18 00:00:00|            1|87285b34884572647...|3504c0cb71d7fa48d...|2017-10-06 11:07:15|29.99|         8.72|                 3|     voucher|                   1|          2.0|a54f0611adc9ed256...|           4|             43019.0|            43020.15542|Excellent quality...| utilidades_domest...|                 40|                       268|                 4|             500|               19|                8|              13|7c396fd4830fd0422...|                    3149|    sao paulo|            SP|                  9350|       maua|          SP|\n",
            "|e481f51cbdc54678b...|9ef432eb625129730...|   delivered|     2017-10-02 10:56:33|2017-10-02 11:07:15|         2017-10-04 19:55:00|          2017-10-10 21:25:13|          2017-10-18 00:00:00|            1|87285b34884572647...|3504c0cb71d7fa48d...|2017-10-06 11:07:15|29.99|         8.72|                 2|     voucher|                   1|        18.59|a54f0611adc9ed256...|           4|             43019.0|            43020.15542|Excellent quality...| utilidades_domest...|                 40|                       268|                 4|             500|               19|                8|              13|7c396fd4830fd0422...|                    3149|    sao paulo|            SP|                  9350|       maua|          SP|\n",
            "|128e10d95713541c8...|a20e8105f23924cd0...|   delivered|     2017-08-15 18:29:31|2017-08-15 20:05:16|         2017-08-17 15:28:33|          2017-08-18 14:44:43|          2017-08-28 00:00:00|            1|87285b34884572647...|3504c0cb71d7fa48d...|2017-08-21 20:05:16|29.99|         7.78|                 1| credit_card|                   3|        37.77|b46f1e34512b0f4c7...|           4|             42966.0|            42967.63653|Great quality and...| utilidades_domest...|                 40|                       268|                 4|             500|               19|                8|              13|3a51803cc0d012c3b...|                    3366|    sao paulo|            SP|                  9350|       maua|          SP|\n",
            "|0e7e841ddf8f8f2de...|26c7ac168e1433912...|   delivered|     2017-08-02 18:24:47|2017-08-02 18:43:15|         2017-08-04 17:35:43|          2017-08-07 18:30:01|          2017-08-15 00:00:00|            1|87285b34884572647...|3504c0cb71d7fa48d...|2017-08-08 18:37:31|29.99|         7.78|                 1| credit_card|                   1|        37.77|dc90f19c2806f1abb...|           5|             42955.0|            42955.97666|Website is easy t...| utilidades_domest...|                 40|                       268|                 4|             500|               19|                8|              13|ef0996a1a279c26e7...|                    2290|    sao paulo|            SP|                  9350|       maua|          SP|\n",
            "+--------------------+--------------------+------------+------------------------+-------------------+----------------------------+-----------------------------+-----------------------------+-------------+--------------------+--------------------+-------------------+-----+-------------+------------------+------------+--------------------+-------------+--------------------+------------+--------------------+-----------------------+--------------------+---------------------+-------------------+--------------------------+------------------+----------------+-----------------+-----------------+----------------+--------------------+------------------------+-------------+--------------+----------------------+-----------+------------+\n",
            "only showing top 5 rows\n",
            "\n"
          ]
        }
      ]
    },
    {
      "cell_type": "code",
      "source": [
        "df.createOrReplaceTempView(\"merged_data\")\n",
        "spark.sql(\"SELECT * FROM merged_data LIMIT 5\").show()\n"
      ],
      "metadata": {
        "id": "9iIVyDEGSWwo",
        "colab": {
          "base_uri": "https://localhost:8080/"
        },
        "outputId": "f31b241c-cb12-4585-d1e9-f48891015670"
      },
      "execution_count": 10,
      "outputs": [
        {
          "output_type": "stream",
          "name": "stdout",
          "text": [
            "+--------------------+--------------------+------------+------------------------+-------------------+----------------------------+-----------------------------+-----------------------------+-------------+--------------------+--------------------+-------------------+-----+-------------+------------------+------------+--------------------+-------------+--------------------+------------+--------------------+-----------------------+--------------------+---------------------+-------------------+--------------------------+------------------+----------------+-----------------+-----------------+----------------+--------------------+------------------------+-------------+--------------+----------------------+-----------+------------+\n",
            "|            order_id|         customer_id|order_status|order_purchase_timestamp|  order_approved_at|order_delivered_carrier_date|order_delivered_customer_date|order_estimated_delivery_date|order_item_id|          product_id|           seller_id|shipping_limit_date|price|freight_value|payment_sequential|payment_type|payment_installments|payment_value|           review_id|review_score|review_creation_date|review_answer_timestamp|              review|product_category_name|product_name_lenght|product_description_lenght|product_photos_qty|product_weight_g|product_length_cm|product_height_cm|product_width_cm|  customer_unique_id|customer_zip_code_prefix|customer_city|customer_state|seller_zip_code_prefix|seller_city|seller_state|\n",
            "+--------------------+--------------------+------------+------------------------+-------------------+----------------------------+-----------------------------+-----------------------------+-------------+--------------------+--------------------+-------------------+-----+-------------+------------------+------------+--------------------+-------------+--------------------+------------+--------------------+-----------------------+--------------------+---------------------+-------------------+--------------------------+------------------+----------------+-----------------+-----------------+----------------+--------------------+------------------------+-------------+--------------+----------------------+-----------+------------+\n",
            "|e481f51cbdc54678b...|9ef432eb625129730...|   delivered|     2017-10-02 10:56:33|2017-10-02 11:07:15|         2017-10-04 19:55:00|          2017-10-10 21:25:13|          2017-10-18 00:00:00|            1|87285b34884572647...|3504c0cb71d7fa48d...|2017-10-06 11:07:15|29.99|         8.72|                 1| credit_card|                   1|        18.12|a54f0611adc9ed256...|           4|             43019.0|            43020.15542|Excellent quality...| utilidades_domest...|                 40|                       268|                 4|             500|               19|                8|              13|7c396fd4830fd0422...|                    3149|    sao paulo|            SP|                  9350|       maua|          SP|\n",
            "|e481f51cbdc54678b...|9ef432eb625129730...|   delivered|     2017-10-02 10:56:33|2017-10-02 11:07:15|         2017-10-04 19:55:00|          2017-10-10 21:25:13|          2017-10-18 00:00:00|            1|87285b34884572647...|3504c0cb71d7fa48d...|2017-10-06 11:07:15|29.99|         8.72|                 3|     voucher|                   1|          2.0|a54f0611adc9ed256...|           4|             43019.0|            43020.15542|Excellent quality...| utilidades_domest...|                 40|                       268|                 4|             500|               19|                8|              13|7c396fd4830fd0422...|                    3149|    sao paulo|            SP|                  9350|       maua|          SP|\n",
            "|e481f51cbdc54678b...|9ef432eb625129730...|   delivered|     2017-10-02 10:56:33|2017-10-02 11:07:15|         2017-10-04 19:55:00|          2017-10-10 21:25:13|          2017-10-18 00:00:00|            1|87285b34884572647...|3504c0cb71d7fa48d...|2017-10-06 11:07:15|29.99|         8.72|                 2|     voucher|                   1|        18.59|a54f0611adc9ed256...|           4|             43019.0|            43020.15542|Excellent quality...| utilidades_domest...|                 40|                       268|                 4|             500|               19|                8|              13|7c396fd4830fd0422...|                    3149|    sao paulo|            SP|                  9350|       maua|          SP|\n",
            "|128e10d95713541c8...|a20e8105f23924cd0...|   delivered|     2017-08-15 18:29:31|2017-08-15 20:05:16|         2017-08-17 15:28:33|          2017-08-18 14:44:43|          2017-08-28 00:00:00|            1|87285b34884572647...|3504c0cb71d7fa48d...|2017-08-21 20:05:16|29.99|         7.78|                 1| credit_card|                   3|        37.77|b46f1e34512b0f4c7...|           4|             42966.0|            42967.63653|Great quality and...| utilidades_domest...|                 40|                       268|                 4|             500|               19|                8|              13|3a51803cc0d012c3b...|                    3366|    sao paulo|            SP|                  9350|       maua|          SP|\n",
            "|0e7e841ddf8f8f2de...|26c7ac168e1433912...|   delivered|     2017-08-02 18:24:47|2017-08-02 18:43:15|         2017-08-04 17:35:43|          2017-08-07 18:30:01|          2017-08-15 00:00:00|            1|87285b34884572647...|3504c0cb71d7fa48d...|2017-08-08 18:37:31|29.99|         7.78|                 1| credit_card|                   1|        37.77|dc90f19c2806f1abb...|           5|             42955.0|            42955.97666|Website is easy t...| utilidades_domest...|                 40|                       268|                 4|             500|               19|                8|              13|ef0996a1a279c26e7...|                    2290|    sao paulo|            SP|                  9350|       maua|          SP|\n",
            "+--------------------+--------------------+------------+------------------------+-------------------+----------------------------+-----------------------------+-----------------------------+-------------+--------------------+--------------------+-------------------+-----+-------------+------------------+------------+--------------------+-------------+--------------------+------------+--------------------+-----------------------+--------------------+---------------------+-------------------+--------------------------+------------------+----------------+-----------------+-----------------+----------------+--------------------+------------------------+-------------+--------------+----------------------+-----------+------------+\n",
            "\n"
          ]
        }
      ]
    },
    {
      "cell_type": "code",
      "source": [
        "# Assuming df is your denormalized PySpark DataFrame\n",
        "df.createOrReplaceTempView(\"orders\")\n"
      ],
      "metadata": {
        "id": "X9aZsL9IOdOA"
      },
      "execution_count": 11,
      "outputs": []
    },
    {
      "cell_type": "markdown",
      "source": [
        "## 1. Average delivery delay (in days)"
      ],
      "metadata": {
        "id": "MSXIP3MHQOC2"
      }
    },
    {
      "cell_type": "code",
      "source": [
        "spark.sql(\"\"\"\n",
        "SELECT\n",
        "  ROUND(AVG(DATEDIFF(order_delivered_customer_date, order_estimated_delivery_date)), 2) AS avg_delivery_delay\n",
        "FROM orders\n",
        "WHERE order_status = 'delivered'\n",
        "\"\"\").show()\n"
      ],
      "metadata": {
        "colab": {
          "base_uri": "https://localhost:8080/"
        },
        "id": "SmDORE_lPAA0",
        "outputId": "948986e1-860d-4b0a-c744-18a39738253d"
      },
      "execution_count": 12,
      "outputs": [
        {
          "output_type": "stream",
          "name": "stdout",
          "text": [
            "+------------------+\n",
            "|avg_delivery_delay|\n",
            "+------------------+\n",
            "|            -12.09|\n",
            "+------------------+\n",
            "\n"
          ]
        }
      ]
    },
    {
      "cell_type": "markdown",
      "source": [
        "## 2. Percentage of delivered orders that were late"
      ],
      "metadata": {
        "id": "DmZgNo7fQR-y"
      }
    },
    {
      "cell_type": "code",
      "source": [
        "spark.sql(\"\"\"\n",
        "SELECT\n",
        "  ROUND(100 * SUM(CASE WHEN order_delivered_customer_date > order_estimated_delivery_date THEN 1 ELSE 0 END) / COUNT(*), 2) AS late_percentage\n",
        "FROM orders\n",
        "WHERE order_status = 'delivered'\n",
        "\"\"\").show()"
      ],
      "metadata": {
        "colab": {
          "base_uri": "https://localhost:8080/"
        },
        "id": "QqAvVAcJPBhy",
        "outputId": "af764773-54b8-401f-a61b-2286c59c46c8"
      },
      "execution_count": 13,
      "outputs": [
        {
          "output_type": "stream",
          "name": "stdout",
          "text": [
            "+---------------+\n",
            "|late_percentage|\n",
            "+---------------+\n",
            "|            7.7|\n",
            "+---------------+\n",
            "\n"
          ]
        }
      ]
    },
    {
      "cell_type": "markdown",
      "source": [
        "## 3. Delay percentage by customer state"
      ],
      "metadata": {
        "id": "r4qnzdD4Qott"
      }
    },
    {
      "cell_type": "code",
      "source": [
        "spark.sql(\"\"\"SELECT\n",
        "  customer_state,\n",
        "  COUNT(*) AS total_delivered,\n",
        "  SUM(CASE WHEN order_delivered_customer_date > order_estimated_delivery_date THEN 1 ELSE 0 END) AS delayed_orders,\n",
        "  ROUND(100 * SUM(CASE WHEN order_delivered_customer_date > order_estimated_delivery_date THEN 1 ELSE 0 END) / COUNT(*), 2) AS delay_percentage\n",
        "FROM orders\n",
        "WHERE order_status = 'delivered'\n",
        "GROUP BY customer_state\n",
        "ORDER BY delay_percentage DESC\n",
        "\"\"\").show()"
      ],
      "metadata": {
        "colab": {
          "base_uri": "https://localhost:8080/"
        },
        "id": "UyGeLjg-QfAf",
        "outputId": "71252af1-92a7-4617-ee03-fa99509015a2"
      },
      "execution_count": 14,
      "outputs": [
        {
          "output_type": "stream",
          "name": "stdout",
          "text": [
            "+--------------+---------------+--------------+----------------+\n",
            "|customer_state|total_delivered|delayed_orders|delay_percentage|\n",
            "+--------------+---------------+--------------+----------------+\n",
            "|            AL|            438|           105|           23.97|\n",
            "|            MA|            807|           161|           19.95|\n",
            "|            PI|            541|            85|           15.71|\n",
            "|            SE|            382|            59|           15.45|\n",
            "|            CE|           1480|           217|           14.66|\n",
            "|            BA|           3845|           522|           13.58|\n",
            "|            RJ|          14566|          1866|           12.81|\n",
            "|            ES|           2268|           267|           11.77|\n",
            "|            RN|            553|            64|           11.57|\n",
            "|            TO|            329|            38|           11.55|\n",
            "|            PA|           1057|           121|           11.45|\n",
            "|            RR|             44|             5|           11.36|\n",
            "|            PB|            605|            66|           10.91|\n",
            "|            MS|            837|            89|           10.63|\n",
            "|            PE|           1796|           179|            9.97|\n",
            "|            SC|           4142|           383|            9.25|\n",
            "|            GO|           2305|           172|            7.46|\n",
            "|            DF|           2397|           178|            7.43|\n",
            "|            RS|           6312|           421|            6.67|\n",
            "|            MT|           1060|            68|            6.42|\n",
            "+--------------+---------------+--------------+----------------+\n",
            "only showing top 20 rows\n",
            "\n"
          ]
        }
      ]
    },
    {
      "cell_type": "markdown",
      "source": [
        "## 4. Delayed deliveries by month"
      ],
      "metadata": {
        "id": "eZFa6BdaQ78H"
      }
    },
    {
      "cell_type": "code",
      "source": [
        "spark.sql(\"\"\"SELECT\n",
        "  MONTH(order_purchase_timestamp) AS month,\n",
        "  COUNT(*) AS total_orders,\n",
        "  SUM(CASE WHEN order_delivered_customer_date > order_estimated_delivery_date THEN 1 ELSE 0 END) AS delayed_orders\n",
        "FROM orders\n",
        "WHERE order_status = 'delivered'\n",
        "GROUP BY MONTH(order_purchase_timestamp)\n",
        "ORDER BY month\n",
        "\"\"\").show()"
      ],
      "metadata": {
        "colab": {
          "base_uri": "https://localhost:8080/"
        },
        "id": "SaEShfk1Qv7D",
        "outputId": "68df9807-dbf1-447f-f358-33ebd31649ea"
      },
      "execution_count": 15,
      "outputs": [
        {
          "output_type": "stream",
          "name": "stdout",
          "text": [
            "+-----+------------+--------------+\n",
            "|month|total_orders|delayed_orders|\n",
            "+-----+------------+--------------+\n",
            "|    1|        9101|           541|\n",
            "|    2|        9560|          1241|\n",
            "|    3|       11194|          1796|\n",
            "|    4|       10612|           570|\n",
            "|    5|       12193|           777|\n",
            "|    6|       10902|           242|\n",
            "|    7|       11790|           466|\n",
            "|    8|       12273|           892|\n",
            "|    9|        4920|           252|\n",
            "|   10|        5710|           259|\n",
            "|   11|        8692|          1173|\n",
            "|   12|        6262|           505|\n",
            "+-----+------------+--------------+\n",
            "\n"
          ]
        }
      ]
    },
    {
      "cell_type": "markdown",
      "source": [
        "## 5. Delay by product category"
      ],
      "metadata": {
        "id": "3oiUW_SDRGWx"
      }
    },
    {
      "cell_type": "code",
      "source": [
        "spark.sql(\"\"\"SELECT\n",
        "  product_category_name,\n",
        "  COUNT(*) AS total_orders,\n",
        "  SUM(CASE WHEN order_delivered_customer_date > order_estimated_delivery_date THEN 1 ELSE 0 END) AS delayed_orders,\n",
        "  ROUND(100 * SUM(CASE WHEN order_delivered_customer_date > order_estimated_delivery_date THEN 1 ELSE 0 END) / COUNT(*), 2) AS delay_percentage\n",
        "FROM orders\n",
        "WHERE order_status = 'delivered'\n",
        "GROUP BY product_category_name\n",
        "ORDER BY delay_percentage DESC\n",
        "\"\"\").show()"
      ],
      "metadata": {
        "colab": {
          "base_uri": "https://localhost:8080/"
        },
        "id": "uY4NEuOcRCNz",
        "outputId": "696a6650-051e-479f-a735-9ef06dddb47a"
      },
      "execution_count": 16,
      "outputs": [
        {
          "output_type": "stream",
          "name": "stdout",
          "text": [
            "+---------------------+------------+--------------+----------------+\n",
            "|product_category_name|total_orders|delayed_orders|delay_percentage|\n",
            "+---------------------+------------+--------------+----------------+\n",
            "|      casa_conforto_2|          28|             5|           17.86|\n",
            "| moveis_colchao_e_...|          40|             5|            12.5|\n",
            "|                audio|         375|            46|           12.27|\n",
            "| fashion_underwear...|         139|            16|           11.51|\n",
            "|      livros_tecnicos|         267|            29|           10.86|\n",
            "| construcao_ferram...|         302|            32|            10.6|\n",
            "|          eletronicos|        2789|           273|            9.79|\n",
            "|            alimentos|         503|            49|            9.74|\n",
            "|        casa_conforto|         471|            44|            9.34|\n",
            "|         beleza_saude|        9747|           869|            8.92|\n",
            "|                bebes|        3095|           270|            8.72|\n",
            "|    moveis_escritorio|        1748|           151|            8.64|\n",
            "|            telefonia|        4578|           385|            8.41|\n",
            "|   artes_e_artesanato|          24|             2|            8.33|\n",
            "|     artigos_de_natal|         145|            12|            8.28|\n",
            "| instrumentos_musi...|         682|            56|            8.21|\n",
            "|   relogios_presentes|        6030|           495|            8.21|\n",
            "|           automotivo|        4259|           346|            8.12|\n",
            "|     moveis_decoracao|        8554|           687|            8.03|\n",
            "|      casa_construcao|         623|            50|            8.03|\n",
            "+---------------------+------------+--------------+----------------+\n",
            "only showing top 20 rows\n",
            "\n"
          ]
        }
      ]
    },
    {
      "cell_type": "markdown",
      "source": [
        "## 6. Sellers with the most delayed deliveries"
      ],
      "metadata": {
        "id": "K09hqk1LRfqg"
      }
    },
    {
      "cell_type": "code",
      "source": [
        "spark.sql(\"\"\"SELECT\n",
        "  seller_id,\n",
        "  COUNT(*) AS total_orders,\n",
        "  SUM(CASE WHEN order_delivered_customer_date > order_estimated_delivery_date THEN 1 ELSE 0 END) AS delayed_orders,\n",
        "  ROUND(100 * SUM(CASE WHEN order_delivered_customer_date > order_estimated_delivery_date THEN 1 ELSE 0 END) / COUNT(*), 2) AS delay_percentage\n",
        "FROM orders\n",
        "WHERE order_status = 'delivered'\n",
        "GROUP BY seller_id\n",
        "ORDER BY delay_percentage DESC\n",
        "LIMIT 10\n",
        "\"\"\").show()"
      ],
      "metadata": {
        "colab": {
          "base_uri": "https://localhost:8080/"
        },
        "id": "C80y-43AROBm",
        "outputId": "b5d445dd-4aac-4b48-9e78-6e1fbddc1cfb"
      },
      "execution_count": 17,
      "outputs": [
        {
          "output_type": "stream",
          "name": "stdout",
          "text": [
            "+--------------------+------------+--------------+----------------+\n",
            "|           seller_id|total_orders|delayed_orders|delay_percentage|\n",
            "+--------------------+------------+--------------+----------------+\n",
            "|586a871d4f1221763...|           2|             2|           100.0|\n",
            "|f5fea3ffed6c2e889...|           1|             1|           100.0|\n",
            "|1f2eebc0e970fd3c4...|           1|             1|           100.0|\n",
            "|c13ef0cfbe42f1907...|           1|             1|           100.0|\n",
            "|791cfcfe22fe4a771...|           1|             1|           100.0|\n",
            "|8e670472e453ba34a...|           1|             1|           100.0|\n",
            "|8629a7efec1aab257...|           1|             1|           100.0|\n",
            "|1b4b28463457a256e...|           1|             1|           100.0|\n",
            "|19484c79cef6c062c...|           1|             1|           100.0|\n",
            "|9da15f4a4ea758d9e...|           1|             1|           100.0|\n",
            "+--------------------+------------+--------------+----------------+\n",
            "\n"
          ]
        }
      ]
    },
    {
      "cell_type": "markdown",
      "source": [
        "## 7. Average approval-to-shipping delay for late vs. on-time deliveries"
      ],
      "metadata": {
        "id": "ko4IMwHDR1JY"
      }
    },
    {
      "cell_type": "code",
      "source": [
        "spark.sql(\"\"\"SELECT\n",
        "  CASE\n",
        "    WHEN order_delivered_customer_date > order_estimated_delivery_date THEN 'Late'\n",
        "    ELSE 'On Time'\n",
        "  END AS delivery_status,\n",
        "  ROUND(AVG(DATEDIFF(order_delivered_carrier_date, order_approved_at)), 2) AS avg_approval_to_ship_days\n",
        "FROM orders\n",
        "WHERE order_status = 'delivered'\n",
        "GROUP BY delivery_status\n",
        "\"\"\").show()"
      ],
      "metadata": {
        "colab": {
          "base_uri": "https://localhost:8080/"
        },
        "id": "1Ktb8osIRkZI",
        "outputId": "603aa7c5-3c09-4efa-ca78-3ca96f6ca0a9"
      },
      "execution_count": 18,
      "outputs": [
        {
          "output_type": "stream",
          "name": "stdout",
          "text": [
            "+---------------+-------------------------+\n",
            "|delivery_status|avg_approval_to_ship_days|\n",
            "+---------------+-------------------------+\n",
            "|        On Time|                     2.53|\n",
            "|           Late|                     5.27|\n",
            "+---------------+-------------------------+\n",
            "\n"
          ]
        }
      ]
    },
    {
      "cell_type": "markdown",
      "source": [
        "## 8. Do high-value orders get delayed more?"
      ],
      "metadata": {
        "id": "5C5WlgRKR-LV"
      }
    },
    {
      "cell_type": "code",
      "source": [
        "spark.sql(\"\"\"SELECT\n",
        "  CASE\n",
        "    WHEN payment_value > 100 THEN 'High Value'\n",
        "    ELSE 'Low/Medium Value'\n",
        "  END AS order_value_segment,\n",
        "  COUNT(*) AS total_orders,\n",
        "  SUM(CASE WHEN order_delivered_customer_date > order_estimated_delivery_date THEN 1 ELSE 0 END) AS delayed_orders,\n",
        "  ROUND(100 * SUM(CASE WHEN order_delivered_customer_date > order_estimated_delivery_date THEN 1 ELSE 0 END) / COUNT(*), 2) AS delay_percentage\n",
        "FROM orders\n",
        "WHERE order_status = 'delivered'\n",
        "GROUP BY order_value_segment\n",
        "\"\"\").show()"
      ],
      "metadata": {
        "colab": {
          "base_uri": "https://localhost:8080/"
        },
        "id": "bke6Hv4vR6Yz",
        "outputId": "bcfa778b-8154-4666-d2f5-c07814198f4d"
      },
      "execution_count": 19,
      "outputs": [
        {
          "output_type": "stream",
          "name": "stdout",
          "text": [
            "+-------------------+------------+--------------+----------------+\n",
            "|order_value_segment|total_orders|delayed_orders|delay_percentage|\n",
            "+-------------------+------------+--------------+----------------+\n",
            "|   Low/Medium Value|       52554|          3856|            7.34|\n",
            "|         High Value|       60655|          4858|            8.01|\n",
            "+-------------------+------------+--------------+----------------+\n",
            "\n"
          ]
        }
      ]
    },
    {
      "cell_type": "markdown",
      "source": [
        "## 9. Trend of delivery delays over time (monthly)"
      ],
      "metadata": {
        "id": "8rQ7ON_ZSG-N"
      }
    },
    {
      "cell_type": "code",
      "source": [
        "spark.sql(\"\"\"SELECT\n",
        "  DATE_FORMAT(order_purchase_timestamp, 'yyyy-MM') AS month,\n",
        "  COUNT(*) AS total_orders,\n",
        "  SUM(CASE WHEN order_delivered_customer_date > order_estimated_delivery_date THEN 1 ELSE 0 END) AS delayed_orders\n",
        "FROM orders\n",
        "WHERE order_status = 'delivered'\n",
        "GROUP BY DATE_FORMAT(order_purchase_timestamp, 'yyyy-MM')\n",
        "ORDER BY month\n",
        "\"\"\").show()"
      ],
      "metadata": {
        "colab": {
          "base_uri": "https://localhost:8080/"
        },
        "id": "j_CklvAASEGw",
        "outputId": "3063d518-d4bc-4877-c9f6-d818054e84d8"
      },
      "execution_count": 20,
      "outputs": [
        {
          "output_type": "stream",
          "name": "stdout",
          "text": [
            "+-------+------------+--------------+\n",
            "|  month|total_orders|delayed_orders|\n",
            "+-------+------------+--------------+\n",
            "|2016-10|         328|             2|\n",
            "|2016-12|           1|             0|\n",
            "|2017-01|         955|            25|\n",
            "|2017-02|        1890|            50|\n",
            "|2017-03|        3010|           157|\n",
            "|2017-04|        2625|           189|\n",
            "|2017-05|        4174|           142|\n",
            "|2017-06|        3640|           142|\n",
            "|2017-07|        4666|           166|\n",
            "|2017-08|        4973|           154|\n",
            "|2017-09|        4920|           252|\n",
            "|2017-10|        5382|           257|\n",
            "|2017-11|        8692|          1173|\n",
            "|2017-12|        6261|           505|\n",
            "|2018-01|        8146|           516|\n",
            "|2018-02|        7670|          1191|\n",
            "|2018-03|        8184|          1639|\n",
            "|2018-04|        7987|           381|\n",
            "|2018-05|        8019|           635|\n",
            "|2018-06|        7262|           100|\n",
            "+-------+------------+--------------+\n",
            "only showing top 20 rows\n",
            "\n"
          ]
        }
      ]
    },
    {
      "cell_type": "markdown",
      "source": [
        "## 10. Actual vs. Estimated delivery time by state"
      ],
      "metadata": {
        "id": "GaeNqk2iSRbw"
      }
    },
    {
      "cell_type": "code",
      "source": [
        "spark.sql(\"\"\"SELECT\n",
        "  customer_state,\n",
        "  ROUND(AVG(DATEDIFF(order_delivered_customer_date, order_purchase_timestamp)), 2) AS avg_actual_delivery_days,\n",
        "  ROUND(AVG(DATEDIFF(order_estimated_delivery_date, order_purchase_timestamp)), 2) AS avg_estimated_delivery_days\n",
        "FROM orders\n",
        "WHERE order_status = 'delivered'\n",
        "GROUP BY customer_state\n",
        "ORDER BY avg_actual_delivery_days DESC\n",
        "\"\"\").show()"
      ],
      "metadata": {
        "colab": {
          "base_uri": "https://localhost:8080/"
        },
        "id": "x4m_-KHgSNzR",
        "outputId": "310a3984-ebd2-46d4-8595-e419e18c459d"
      },
      "execution_count": 21,
      "outputs": [
        {
          "output_type": "stream",
          "name": "stdout",
          "text": [
            "+--------------+------------------------+---------------------------+\n",
            "|customer_state|avg_actual_delivery_days|avg_estimated_delivery_days|\n",
            "+--------------+------------------------+---------------------------+\n",
            "|            RR|                    28.2|                       46.7|\n",
            "|            AP|                   28.09|                      46.76|\n",
            "|            AM|                   26.32|                      46.16|\n",
            "|            AL|                   24.46|                      33.15|\n",
            "|            PA|                   23.42|                      37.91|\n",
            "|            MA|                   21.49|                      31.49|\n",
            "|            SE|                   21.22|                      31.26|\n",
            "|            CE|                   20.58|                      32.02|\n",
            "|            AC|                   20.51|                      41.79|\n",
            "|            PB|                   20.39|                      33.63|\n",
            "|            RO|                   19.74|                      39.62|\n",
            "|            RN|                   19.63|                       33.3|\n",
            "|            PI|                   19.26|                      30.76|\n",
            "|            BA|                    19.1|                      30.15|\n",
            "|            PE|                   18.15|                      31.74|\n",
            "|            MT|                    17.8|                      32.31|\n",
            "|            TO|                   17.11|                      29.57|\n",
            "|            ES|                   15.47|                      26.26|\n",
            "|            MS|                   15.42|                      26.65|\n",
            "|            GO|                   15.19|                      27.64|\n",
            "+--------------+------------------------+---------------------------+\n",
            "only showing top 20 rows\n",
            "\n"
          ]
        }
      ]
    },
    {
      "cell_type": "markdown",
      "source": [
        "## 11. Product categories with highest average delivery delays + order count"
      ],
      "metadata": {
        "id": "vw23ArL_xg1_"
      }
    },
    {
      "cell_type": "code",
      "source": [
        "spark.sql(\"\"\"\n",
        "SELECT\n",
        "  product_category_name,\n",
        "  COUNT(*) AS total_orders,\n",
        "  ROUND(AVG(DATEDIFF(order_delivered_customer_date, order_estimated_delivery_date)), 2) AS avg_delay_days\n",
        "FROM orders\n",
        "WHERE order_status = 'delivered'\n",
        "GROUP BY product_category_name\n",
        "ORDER BY avg_delay_days DESC\n",
        "\"\"\").show()"
      ],
      "metadata": {
        "colab": {
          "base_uri": "https://localhost:8080/"
        },
        "id": "3_D8vtwAv7gS",
        "outputId": "1ffb0d81-d385-4e36-cf73-bab2aba81bdc"
      },
      "execution_count": 24,
      "outputs": [
        {
          "output_type": "stream",
          "name": "stdout",
          "text": [
            "+---------------------+------------+--------------+\n",
            "|product_category_name|total_orders|avg_delay_days|\n",
            "+---------------------+------------+--------------+\n",
            "|   artes_e_artesanato|          24|         -6.79|\n",
            "| moveis_colchao_e_...|          40|         -7.18|\n",
            "|      casa_conforto_2|          28|          -8.0|\n",
            "| portateis_cozinha...|          14|          -9.5|\n",
            "|        casa_conforto|         471|         -9.79|\n",
            "|            alimentos|         503|         -9.95|\n",
            "|             pc_gamer|           9|         -10.0|\n",
            "|                audio|         375|        -10.18|\n",
            "| fashion_underwear...|         139|        -10.73|\n",
            "|    livros_importados|          59|        -11.05|\n",
            "|          eletronicos|        2789|        -11.16|\n",
            "| construcao_ferram...|         302|        -11.18|\n",
            "|            cine_foto|          72|        -11.22|\n",
            "|      fraldas_higiene|          37|        -11.35|\n",
            "| fashion_roupa_fem...|          46|        -11.35|\n",
            "|      livros_tecnicos|         267|        -11.39|\n",
            "|            telefonia|        4578|        -11.39|\n",
            "|           automotivo|        4259|        -11.47|\n",
            "|              bebidas|         371|        -11.54|\n",
            "| instrumentos_musi...|         682|        -11.55|\n",
            "+---------------------+------------+--------------+\n",
            "only showing top 20 rows\n",
            "\n"
          ]
        }
      ]
    },
    {
      "cell_type": "markdown",
      "source": [
        "## 12. Relation between shipping distance and delay (city mismatch as proxy for distance)"
      ],
      "metadata": {
        "id": "td8wLka7yDzS"
      }
    },
    {
      "cell_type": "code",
      "source": [
        "spark.sql(\"\"\"\n",
        "SELECT\n",
        "  CASE\n",
        "    WHEN customer_city = seller_city THEN 'Same City'\n",
        "    ELSE 'Different City'\n",
        "  END AS shipping_zone,\n",
        "  COUNT(*) AS total_orders,\n",
        "  ROUND(AVG(DATEDIFF(order_delivered_customer_date, order_estimated_delivery_date)), 2) AS avg_delay\n",
        "FROM orders\n",
        "WHERE order_status = 'delivered'\n",
        "GROUP BY shipping_zone\n",
        "\"\"\").show()\n"
      ],
      "metadata": {
        "colab": {
          "base_uri": "https://localhost:8080/"
        },
        "id": "b7A6kh6txnK4",
        "outputId": "f42a6426-4352-4ae8-f76f-c08b674a5823"
      },
      "execution_count": 25,
      "outputs": [
        {
          "output_type": "stream",
          "name": "stdout",
          "text": [
            "+--------------+------------+---------+\n",
            "| shipping_zone|total_orders|avg_delay|\n",
            "+--------------+------------+---------+\n",
            "|     Same City|        5839|    -9.41|\n",
            "|Different City|      107370|   -12.24|\n",
            "+--------------+------------+---------+\n",
            "\n"
          ]
        }
      ]
    },
    {
      "cell_type": "markdown",
      "source": [
        "## 13. Sellers consistently delivering late across categories"
      ],
      "metadata": {
        "id": "tW27XMI9yJ27"
      }
    },
    {
      "cell_type": "code",
      "source": [
        "spark.sql(\"\"\"\n",
        "SELECT\n",
        "  seller_id,\n",
        "  product_category_name,\n",
        "  COUNT(*) AS total_orders,\n",
        "  SUM(CASE WHEN order_delivered_customer_date > order_estimated_delivery_date THEN 1 ELSE 0 END) AS delayed_orders,\n",
        "  ROUND(100.0 * SUM(CASE WHEN order_delivered_customer_date > order_estimated_delivery_date THEN 1 ELSE 0 END) / COUNT(*), 2) AS delay_percentage\n",
        "FROM orders\n",
        "WHERE order_status = 'delivered'\n",
        "GROUP BY seller_id, product_category_name\n",
        "HAVING delayed_orders >= 10 AND delay_percentage > 50\n",
        "ORDER BY delay_percentage DESC\n",
        "\"\"\").show()\n"
      ],
      "metadata": {
        "colab": {
          "base_uri": "https://localhost:8080/"
        },
        "id": "SROdNvqryHTI",
        "outputId": "61ee226f-f59a-4155-b321-b298c4b7f670"
      },
      "execution_count": 26,
      "outputs": [
        {
          "output_type": "stream",
          "name": "stdout",
          "text": [
            "+--------------------+---------------------+------------+--------------+----------------+\n",
            "|           seller_id|product_category_name|total_orders|delayed_orders|delay_percentage|\n",
            "+--------------------+---------------------+------------+--------------+----------------+\n",
            "|bbad7e518d7af88a0...|   ferramentas_jardim|          14|            10|           71.43|\n",
            "|2709af9587499e95e...|         beleza_saude|          36|            21|           58.33|\n",
            "+--------------------+---------------------+------------+--------------+----------------+\n",
            "\n"
          ]
        }
      ]
    },
    {
      "cell_type": "markdown",
      "source": [
        "## 14. Correlation: freight value vs. average delay per month"
      ],
      "metadata": {
        "id": "E_AKJx53yNV_"
      }
    },
    {
      "cell_type": "code",
      "source": [
        "spark.sql(\"\"\"\n",
        "SELECT\n",
        "  DATE_FORMAT(order_purchase_timestamp, 'yyyy-MM') AS month,\n",
        "  ROUND(AVG(freight_value), 2) AS avg_freight,\n",
        "  ROUND(AVG(DATEDIFF(order_delivered_customer_date, order_estimated_delivery_date)), 2) AS avg_delay\n",
        "FROM orders\n",
        "WHERE order_status = 'delivered'\n",
        "GROUP BY DATE_FORMAT(order_purchase_timestamp, 'yyyy-MM')\n",
        "ORDER BY month\n",
        "\"\"\").show()\n"
      ],
      "metadata": {
        "colab": {
          "base_uri": "https://localhost:8080/"
        },
        "id": "179NDDzgyLYj",
        "outputId": "b95fa290-3cc4-4135-df86-9143b65db823"
      },
      "execution_count": 27,
      "outputs": [
        {
          "output_type": "stream",
          "name": "stdout",
          "text": [
            "+-------+-----------+---------+\n",
            "|  month|avg_freight|avg_delay|\n",
            "+-------+-----------+---------+\n",
            "|2016-10|      19.37|   -36.27|\n",
            "|2016-12|       8.72|    -22.0|\n",
            "|2017-01|      17.29|   -27.99|\n",
            "|2017-02|      19.99|   -19.39|\n",
            "|2017-03|      19.11|   -12.44|\n",
            "|2017-04|      19.32|   -13.28|\n",
            "|2017-05|      19.27|   -13.45|\n",
            "|2017-06|      19.49|    -12.5|\n",
            "|2017-07|      19.33|   -12.66|\n",
            "|2017-08|      19.06|   -13.36|\n",
            "|2017-09|      19.86|   -11.37|\n",
            "|2017-10|      19.74|    -12.1|\n",
            "|2017-11|      19.54|    -8.39|\n",
            "|2017-12|      18.98|   -13.14|\n",
            "|2018-01|      19.14|   -13.13|\n",
            "|2018-02|      18.63|    -8.41|\n",
            "|2018-03|      20.86|    -6.97|\n",
            "|2018-04|       20.4|   -13.09|\n",
            "|2018-05|       19.4|   -12.38|\n",
            "|2018-06|      22.42|   -19.34|\n",
            "+-------+-----------+---------+\n",
            "only showing top 20 rows\n",
            "\n"
          ]
        }
      ]
    },
    {
      "cell_type": "markdown",
      "source": [
        "## 15. Percentage of late orders with low review scores (1 or 2)"
      ],
      "metadata": {
        "id": "nTIss_iSyTVR"
      }
    },
    {
      "cell_type": "code",
      "source": [
        "spark.sql(\"\"\"\n",
        "SELECT\n",
        "  COUNT(*) AS late_orders,\n",
        "  SUM(CASE WHEN review_score IN (1, 2) THEN 1 ELSE 0 END) AS low_scores,\n",
        "  ROUND(100.0 * SUM(CASE WHEN review_score IN (1, 2) THEN 1 ELSE 0 END) / COUNT(*), 2) AS low_score_percentage\n",
        "FROM orders\n",
        "WHERE order_status = 'delivered'\n",
        "  AND order_delivered_customer_date > order_estimated_delivery_date\n",
        "\"\"\").show()\n"
      ],
      "metadata": {
        "colab": {
          "base_uri": "https://localhost:8080/"
        },
        "id": "pGeK8erayPPw",
        "outputId": "707cb9c6-a0e4-4fc6-b7f3-76467e9eabf8"
      },
      "execution_count": 28,
      "outputs": [
        {
          "output_type": "stream",
          "name": "stdout",
          "text": [
            "+-----------+----------+--------------------+\n",
            "|late_orders|low_scores|low_score_percentage|\n",
            "+-----------+----------+--------------------+\n",
            "|       8714|      4758|               54.60|\n",
            "+-----------+----------+--------------------+\n",
            "\n"
          ]
        }
      ]
    },
    {
      "cell_type": "markdown",
      "source": [
        "## 16. Longer approval time → higher chance of delay?"
      ],
      "metadata": {
        "id": "rn73MB0wyWVq"
      }
    },
    {
      "cell_type": "code",
      "source": [
        "spark.sql(\"\"\"\n",
        "SELECT\n",
        "  CASE\n",
        "    WHEN DATEDIFF(order_approved_at, order_purchase_timestamp) > 1 THEN 'Slow Approval'\n",
        "    ELSE 'Fast Approval'\n",
        "  END AS approval_speed,\n",
        "  COUNT(*) AS total_orders,\n",
        "  SUM(CASE WHEN order_delivered_customer_date > order_estimated_delivery_date THEN 1 ELSE 0 END) AS delayed_orders,\n",
        "  ROUND(100.0 * SUM(CASE WHEN order_delivered_customer_date > order_estimated_delivery_date THEN 1 ELSE 0 END) / COUNT(*), 2) AS delay_percentage\n",
        "FROM orders\n",
        "WHERE order_status = 'delivered'\n",
        "GROUP BY approval_speed\n",
        "\"\"\").show()\n"
      ],
      "metadata": {
        "colab": {
          "base_uri": "https://localhost:8080/"
        },
        "id": "LOij4DItyU92",
        "outputId": "9c6b28b8-9dea-47d0-f60b-25fd84800b1e"
      },
      "execution_count": 29,
      "outputs": [
        {
          "output_type": "stream",
          "name": "stdout",
          "text": [
            "+--------------+------------+--------------+----------------+\n",
            "|approval_speed|total_orders|delayed_orders|delay_percentage|\n",
            "+--------------+------------+--------------+----------------+\n",
            "| Fast Approval|       97802|          7233|            7.40|\n",
            "| Slow Approval|       15407|          1481|            9.61|\n",
            "+--------------+------------+--------------+----------------+\n",
            "\n"
          ]
        }
      ]
    },
    {
      "cell_type": "markdown",
      "source": [
        "## 17. Delay distribution buckets (0–3, 4–7, >7 days)"
      ],
      "metadata": {
        "id": "BhvfGdXNyaap"
      }
    },
    {
      "cell_type": "code",
      "source": [
        "spark.sql(\"\"\"\n",
        "SELECT\n",
        "  CASE\n",
        "    WHEN DATEDIFF(order_delivered_customer_date, order_estimated_delivery_date) BETWEEN 1 AND 3 THEN '1–3 Days Late'\n",
        "    WHEN DATEDIFF(order_delivered_customer_date, order_estimated_delivery_date) BETWEEN 4 AND 7 THEN '4–7 Days Late'\n",
        "    WHEN DATEDIFF(order_delivered_customer_date, order_estimated_delivery_date) > 7 THEN 'Over 7 Days Late'\n",
        "  END AS delay_bucket,\n",
        "  COUNT(*) AS total\n",
        "FROM orders\n",
        "WHERE order_status = 'delivered'\n",
        "  AND order_delivered_customer_date > order_estimated_delivery_date\n",
        "GROUP BY delay_bucket\n",
        "\"\"\").show()\n"
      ],
      "metadata": {
        "colab": {
          "base_uri": "https://localhost:8080/"
        },
        "id": "_A3OtKGlyX1n",
        "outputId": "d852dfed-d751-4a52-c5fa-6c44f6b159af"
      },
      "execution_count": 30,
      "outputs": [
        {
          "output_type": "stream",
          "name": "stdout",
          "text": [
            "+----------------+-----+\n",
            "|    delay_bucket|total|\n",
            "+----------------+-----+\n",
            "|            null| 1468|\n",
            "|   4–7 Days Late| 1993|\n",
            "|Over 7 Days Late| 3140|\n",
            "|   1–3 Days Late| 2113|\n",
            "+----------------+-----+\n",
            "\n"
          ]
        }
      ]
    },
    {
      "cell_type": "markdown",
      "source": [
        "## 18. Average delay by region type (urban vs rural)"
      ],
      "metadata": {
        "id": "NUOfI0TqyekZ"
      }
    },
    {
      "cell_type": "code",
      "source": [
        "spark.sql(\"\"\"\n",
        "SELECT customer_city, COUNT(*) AS city_orders\n",
        "FROM orders\n",
        "GROUP BY customer_city\n",
        "\"\"\").createOrReplaceTempView(\"city_orders\")\n"
      ],
      "metadata": {
        "id": "8Cwf3rZMycns"
      },
      "execution_count": 31,
      "outputs": []
    },
    {
      "cell_type": "code",
      "source": [
        "spark.sql(\"\"\"\n",
        "SELECT\n",
        "  o.customer_city,\n",
        "  CASE WHEN c.city_orders > 100 THEN 'Urban' ELSE 'Rural' END AS region_type,\n",
        "  ROUND(AVG(DATEDIFF(order_delivered_customer_date, order_estimated_delivery_date)), 2) AS avg_delay\n",
        "FROM orders o\n",
        "JOIN city_orders c ON o.customer_city = c.customer_city\n",
        "WHERE o.order_status = 'delivered'\n",
        "GROUP BY o.customer_city, region_type\n",
        "\"\"\").show()\n"
      ],
      "metadata": {
        "colab": {
          "base_uri": "https://localhost:8080/"
        },
        "id": "h7l1CFfZyhbk",
        "outputId": "b2d221bc-76c9-462d-a57e-f8c9e6d64b0b"
      },
      "execution_count": 32,
      "outputs": [
        {
          "output_type": "stream",
          "name": "stdout",
          "text": [
            "+--------------------+-----------+---------+\n",
            "|       customer_city|region_type|avg_delay|\n",
            "+--------------------+-----------+---------+\n",
            "|jijoca de jericoa...|      Rural|   -23.25|\n",
            "|            camacari|      Rural|    -7.49|\n",
            "|                iepe|      Rural|   -11.17|\n",
            "|   redencao da serra|      Rural|    -15.0|\n",
            "|           igrejinha|      Rural|    -15.5|\n",
            "|           arapiraca|      Rural|    -8.79|\n",
            "|            barracao|      Rural|    -14.0|\n",
            "|                pote|      Rural|    -15.0|\n",
            "|           itaberaba|      Rural|   -12.89|\n",
            "|divino das laranj...|      Rural|    -13.0|\n",
            "|  aguas de sao pedro|      Rural|    -12.0|\n",
            "|            itanhaem|      Rural|   -11.88|\n",
            "|           boa vista|      Rural|    -18.0|\n",
            "|                ijui|      Rural|   -15.49|\n",
            "|             brusque|      Rural|    -11.5|\n",
            "|   sao joao da barra|      Rural|    -12.0|\n",
            "|           cachoeira|      Rural|    -24.8|\n",
            "|              pacuja|      Rural|    -18.0|\n",
            "|            buritama|      Rural|    -8.17|\n",
            "|       astolfo dutra|      Rural|    -19.5|\n",
            "+--------------------+-----------+---------+\n",
            "only showing top 20 rows\n",
            "\n"
          ]
        }
      ]
    },
    {
      "cell_type": "markdown",
      "source": [
        "##  19. Delays in high-density vs. low-density states"
      ],
      "metadata": {
        "id": "AS_PZYRhyl1c"
      }
    },
    {
      "cell_type": "code",
      "source": [
        "spark.sql(\"\"\"\n",
        "SELECT\n",
        "  customer_state,\n",
        "  COUNT(*) AS total_orders,\n",
        "  SUM(CASE WHEN order_delivered_customer_date > order_estimated_delivery_date THEN 1 ELSE 0 END) AS delayed,\n",
        "  ROUND(100.0 * SUM(CASE WHEN order_delivered_customer_date > order_estimated_delivery_date THEN 1 ELSE 0 END) / COUNT(*), 2) AS delay_percentage\n",
        "FROM orders\n",
        "WHERE order_status = 'delivered'\n",
        "GROUP BY customer_state\n",
        "ORDER BY total_orders DESC\n",
        "\"\"\").show()\n"
      ],
      "metadata": {
        "colab": {
          "base_uri": "https://localhost:8080/"
        },
        "id": "xwyQnj3_yjnD",
        "outputId": "6dc79820-2ab0-43d0-f72b-43a4a4977243"
      },
      "execution_count": 33,
      "outputs": [
        {
          "output_type": "stream",
          "name": "stdout",
          "text": [
            "+--------------+------------+-------+----------------+\n",
            "|customer_state|total_orders|delayed|delay_percentage|\n",
            "+--------------+------------+-------+----------------+\n",
            "|            SP|       47821|   2655|            5.55|\n",
            "|            RJ|       14566|   1866|           12.81|\n",
            "|            MG|       13219|    695|            5.26|\n",
            "|            RS|        6312|    421|            6.67|\n",
            "|            PR|        5790|    273|            4.72|\n",
            "|            SC|        4142|    383|            9.25|\n",
            "|            BA|        3845|    522|           13.58|\n",
            "|            DF|        2397|    178|            7.43|\n",
            "|            GO|        2305|    172|            7.46|\n",
            "|            ES|        2268|    267|           11.77|\n",
            "|            PE|        1796|    179|            9.97|\n",
            "|            CE|        1480|    217|           14.66|\n",
            "|            MT|        1060|     68|            6.42|\n",
            "|            PA|        1057|    121|           11.45|\n",
            "|            MS|         837|     89|           10.63|\n",
            "|            MA|         807|    161|           19.95|\n",
            "|            PB|         605|     66|           10.91|\n",
            "|            RN|         553|     64|           11.57|\n",
            "|            PI|         541|     85|           15.71|\n",
            "|            AL|         438|    105|           23.97|\n",
            "+--------------+------------+-------+----------------+\n",
            "only showing top 20 rows\n",
            "\n"
          ]
        }
      ]
    },
    {
      "cell_type": "markdown",
      "source": [
        "## 20. Day-of-week effect on delivery delay"
      ],
      "metadata": {
        "id": "yXK1KUOdyp0t"
      }
    },
    {
      "cell_type": "code",
      "source": [
        "spark.sql(\"\"\"\n",
        "SELECT\n",
        "  DAYOFWEEK(order_purchase_timestamp) AS purchase_day,\n",
        "  COUNT(*) AS total_orders,\n",
        "  ROUND(AVG(DATEDIFF(order_delivered_customer_date, order_estimated_delivery_date)), 2) AS avg_delay\n",
        "FROM orders\n",
        "WHERE order_status = 'delivered'\n",
        "GROUP BY DAYOFWEEK(order_purchase_timestamp)\n",
        "ORDER BY purchase_day\n",
        "\"\"\").show()\n"
      ],
      "metadata": {
        "colab": {
          "base_uri": "https://localhost:8080/"
        },
        "id": "4fmszTvrynmW",
        "outputId": "d1f0282b-fe95-45ac-fc77-559d5a450252"
      },
      "execution_count": 34,
      "outputs": [
        {
          "output_type": "stream",
          "name": "stdout",
          "text": [
            "+------------+------------+---------+\n",
            "|purchase_day|total_orders|avg_delay|\n",
            "+------------+------------+---------+\n",
            "|           1|       13447|   -12.55|\n",
            "|           2|       18373|   -11.51|\n",
            "|           3|       18407|   -11.98|\n",
            "|           4|       17674|   -12.08|\n",
            "|           5|       16908|   -12.21|\n",
            "|           6|       16192|   -11.93|\n",
            "|           7|       12208|   -12.68|\n",
            "+------------+------------+---------+\n",
            "\n"
          ]
        }
      ]
    },
    {
      "cell_type": "markdown",
      "source": [
        "## 21. Product categories with highest avg delay, by state"
      ],
      "metadata": {
        "id": "WnrrxfW-03Sz"
      }
    },
    {
      "cell_type": "code",
      "source": [
        "spark.sql(\"\"\"\n",
        "SELECT\n",
        "    product_category_name,\n",
        "    customer_state,\n",
        "    ROUND(AVG(DATEDIFF(order_delivered_customer_date, order_estimated_delivery_date)), 2) AS avg_delay\n",
        "FROM orders\n",
        "WHERE order_delivered_customer_date > order_estimated_delivery_date\n",
        "GROUP BY product_category_name, customer_state\n",
        "ORDER BY avg_delay DESC\n",
        "\"\"\").show()"
      ],
      "metadata": {
        "colab": {
          "base_uri": "https://localhost:8080/"
        },
        "id": "641JFGlO0mcg",
        "outputId": "257062ab-1318-424f-8331-b10804142288"
      },
      "execution_count": 36,
      "outputs": [
        {
          "output_type": "stream",
          "name": "stdout",
          "text": [
            "+---------------------+--------------+---------+\n",
            "|product_category_name|customer_state|avg_delay|\n",
            "+---------------------+--------------+---------+\n",
            "| instrumentos_musi...|            SE|    166.0|\n",
            "|     moveis_decoracao|            AP|    144.0|\n",
            "|        casa_conforto|            RN|    137.0|\n",
            "|        esporte_lazer|            RR|    132.0|\n",
            "|            alimentos|            AM|    104.0|\n",
            "|   eletrodomesticos_2|            MG|     84.0|\n",
            "|       consoles_games|            PA|    60.67|\n",
            "| utilidades_domest...|            GO|     59.0|\n",
            "|           automotivo|            SE|    51.75|\n",
            "|              bebidas|            RJ|     49.0|\n",
            "| moveis_colchao_e_...|            SC|     48.0|\n",
            "|            alimentos|            RJ|     45.5|\n",
            "|    moveis_escritorio|            RS|    44.25|\n",
            "|              bebidas|            RS|     40.0|\n",
            "|    moveis_escritorio|            PI|     36.4|\n",
            "|     artigos_de_natal|            CE|     35.0|\n",
            "|    moveis_escritorio|            MT|     33.0|\n",
            "| construcao_ferram...|            CE|     33.0|\n",
            "| construcao_ferram...|            SC|     33.0|\n",
            "|      eletroportateis|            GO|     32.0|\n",
            "+---------------------+--------------+---------+\n",
            "only showing top 20 rows\n",
            "\n"
          ]
        }
      ]
    },
    {
      "cell_type": "markdown",
      "source": [
        "## 22. Correlation between number of items in order and delay"
      ],
      "metadata": {
        "id": "qvOJiTLn07h6"
      }
    },
    {
      "cell_type": "code",
      "source": [
        "spark.sql(\"\"\"\n",
        "SELECT\n",
        "    order_id,\n",
        "    COUNT(product_id) AS total_items,\n",
        "    DATEDIFF(order_delivered_customer_date, order_estimated_delivery_date) AS delay\n",
        "FROM orders\n",
        "GROUP BY order_id, order_delivered_customer_date, order_estimated_delivery_date\n",
        "ORDER BY total_items DESC\n",
        "\"\"\").show()"
      ],
      "metadata": {
        "colab": {
          "base_uri": "https://localhost:8080/"
        },
        "id": "VVPKt3qL06vY",
        "outputId": "79d7ee9c-710b-4ab1-c1e5-73a22f852ac5"
      },
      "execution_count": 37,
      "outputs": [
        {
          "output_type": "stream",
          "name": "stdout",
          "text": [
            "+--------------------+-----------+-----+\n",
            "|            order_id|total_items|delay|\n",
            "+--------------------+-----------+-----+\n",
            "|895ab968e7bb0d565...|         63|  -16|\n",
            "|fedcd9f7ccdc8cba3...|         38|   -5|\n",
            "|ccf804e764ed5650c...|         26|   -6|\n",
            "|68986e4324f6a2148...|         24|  -12|\n",
            "|465c2e1bee4561cb3...|         24|   -9|\n",
            "|6d58638e32674bebe...|         24|  -11|\n",
            "|a3725dfe487d359b5...|         24|   -4|\n",
            "|c6492b842ac190db8...|         24|   -9|\n",
            "|5a3b1c29a49756e75...|         22|  -12|\n",
            "|285c2e15bebd4ac83...|         22|  -13|\n",
            "|1c11d0f4353b31ac3...|         21|  -17|\n",
            "|8272b63d03f5f79c5...|         21|    3|\n",
            "|958c6a70e60365b57...|         21|   -7|\n",
            "|364f451ee38a4268d...|         20|   -8|\n",
            "|1b15974a0141d54e3...|         20|   -3|\n",
            "|ee9ca989fc93ba09a...|         19|   -6|\n",
            "|9c54a1816e487456b...|         16|  -22|\n",
            "|3a1ce4053005d669a...|         16|  -18|\n",
            "|4c08f008753759d67...|         15|  -29|\n",
            "|4bfcba9e084f46c8e...|         15|   -8|\n",
            "+--------------------+-----------+-----+\n",
            "only showing top 20 rows\n",
            "\n"
          ]
        }
      ]
    },
    {
      "cell_type": "markdown",
      "source": [
        "## 23. Repeated late deliveries vs. review score"
      ],
      "metadata": {
        "id": "FP_bcoxd0_Cw"
      }
    },
    {
      "cell_type": "code",
      "source": [
        "spark.sql(\"\"\"\n",
        "SELECT\n",
        "    customer_id,\n",
        "    COUNT(*) AS late_order_count,\n",
        "    ROUND(AVG(review_score), 2) AS avg_review_score\n",
        "FROM orders\n",
        "WHERE order_delivered_customer_date > order_estimated_delivery_date\n",
        "GROUP BY customer_id\n",
        "HAVING late_order_count > 1\n",
        "ORDER BY avg_review_score ASC\n",
        "\"\"\").show()"
      ],
      "metadata": {
        "colab": {
          "base_uri": "https://localhost:8080/"
        },
        "id": "0qFcW-fc1BTB",
        "outputId": "3902155c-d4bd-4540-b59d-1b56708e7cbf"
      },
      "execution_count": 38,
      "outputs": [
        {
          "output_type": "stream",
          "name": "stdout",
          "text": [
            "+--------------------+----------------+----------------+\n",
            "|         customer_id|late_order_count|avg_review_score|\n",
            "+--------------------+----------------+----------------+\n",
            "|ed532487db04478df...|               2|             1.0|\n",
            "|810b0fa7210f36cdb...|               2|             1.0|\n",
            "|f8145d9ea34724ad4...|               2|             1.0|\n",
            "|641e3183819490fc2...|               2|             1.0|\n",
            "|aae53fd05ec93f09b...|               2|             1.0|\n",
            "|6e598f3c0385872ad...|               2|             1.0|\n",
            "|29d896af6952f87f4...|               2|             1.0|\n",
            "|5d8712db3109f5c3b...|               2|             1.0|\n",
            "|23090a6b2fc85e04d...|               2|             1.0|\n",
            "|6e66d0911bc117a0a...|               3|             1.0|\n",
            "|97a1a7d434c0aec55...|               2|             1.0|\n",
            "|bd7f3abe8cf23c1f8...|               2|             1.0|\n",
            "|ab0d603f0c96d5bc3...|               2|             1.0|\n",
            "|96a38239347713db4...|               2|             1.0|\n",
            "|14dc25a6ed75c0301...|               2|             1.0|\n",
            "|7abba8fbc4eb6715f...|               2|             1.0|\n",
            "|6fca0539c47aec27b...|               2|             1.0|\n",
            "|6c8a03b35eb1de3c0...|               4|             1.0|\n",
            "|308afed7ca5923979...|               2|             1.0|\n",
            "|ac055528f5a69cba5...|               2|             1.0|\n",
            "+--------------------+----------------+----------------+\n",
            "only showing top 20 rows\n",
            "\n"
          ]
        }
      ]
    },
    {
      "cell_type": "markdown",
      "source": [
        "## 24. Delivery delays near holidays"
      ],
      "metadata": {
        "id": "7HEPuAQG1DzY"
      }
    },
    {
      "cell_type": "code",
      "source": [
        "spark.sql(\"\"\"\n",
        "SELECT\n",
        "    order_id,\n",
        "    order_estimated_delivery_date,\n",
        "    order_delivered_customer_date,\n",
        "    DATEDIFF(order_delivered_customer_date, order_estimated_delivery_date) AS delay\n",
        "FROM orders\n",
        "WHERE MONTH(order_estimated_delivery_date) IN (12, 1)\n",
        "AND order_delivered_customer_date > order_estimated_delivery_date\n",
        "\"\"\").show()"
      ],
      "metadata": {
        "colab": {
          "base_uri": "https://localhost:8080/"
        },
        "id": "FnztZ3s-1CVt",
        "outputId": "1e87ae93-f58b-4438-b7f8-da0b70063d5d"
      },
      "execution_count": 39,
      "outputs": [
        {
          "output_type": "stream",
          "name": "stdout",
          "text": [
            "+--------------------+-----------------------------+-----------------------------+-----+\n",
            "|            order_id|order_estimated_delivery_date|order_delivered_customer_date|delay|\n",
            "+--------------------+-----------------------------+-----------------------------+-----+\n",
            "|1edf3cfb4e85e8094...|          2017-12-18 00:00:00|          2018-01-02 12:09:51|   15|\n",
            "|9855d762d535fda66...|          2017-12-22 00:00:00|          2017-12-28 16:33:46|    6|\n",
            "|9855d762d535fda66...|          2017-12-22 00:00:00|          2017-12-28 16:33:46|    6|\n",
            "|8c3651ff7833e7345...|          2018-01-04 00:00:00|          2018-01-06 17:25:07|    2|\n",
            "|8b79235214c377ff8...|          2017-12-12 00:00:00|          2017-12-19 18:53:11|    7|\n",
            "|f5a511e584053180d...|          2017-12-13 00:00:00|          2017-12-19 19:57:04|    6|\n",
            "|045797b656bf63356...|          2017-12-22 00:00:00|          2017-12-23 01:05:55|    1|\n",
            "|b8b6924f004e19192...|          2017-12-18 00:00:00|          2017-12-20 20:38:46|    2|\n",
            "|faa3c806c150cf6f0...|          2017-12-20 00:00:00|          2018-01-19 01:08:41|   30|\n",
            "|8ce19cd80af40e6cb...|          2017-12-29 00:00:00|          2018-01-04 14:18:53|    6|\n",
            "|67bc7ff7cf5396dc1...|          2017-12-27 00:00:00|          2017-12-29 15:16:33|    2|\n",
            "|4801b9cf238c2c909...|          2017-12-29 00:00:00|          2018-01-08 20:54:56|   10|\n",
            "|51ee2d580bfba3ac0...|          2017-12-19 00:00:00|          2017-12-20 18:10:43|    1|\n",
            "|961d9e5c68462472a...|          2017-12-12 00:00:00|          2017-12-12 00:39:51|    0|\n",
            "|396f84886eb4046aa...|          2018-01-02 00:00:00|          2018-01-08 15:50:32|    6|\n",
            "|341d0ee42d08b192c...|          2017-12-22 00:00:00|          2018-01-03 18:09:00|   12|\n",
            "|d55cd104a6a05987a...|          2017-12-27 00:00:00|          2018-01-16 17:09:31|   20|\n",
            "|d55cd104a6a05987a...|          2017-12-27 00:00:00|          2018-01-16 17:09:31|   20|\n",
            "|6621d32aa07764fa7...|          2017-12-21 00:00:00|          2018-01-05 19:54:25|   15|\n",
            "|76488d1a3fac0eda3...|          2017-12-14 00:00:00|          2017-12-21 15:54:41|    7|\n",
            "+--------------------+-----------------------------+-----------------------------+-----+\n",
            "only showing top 20 rows\n",
            "\n"
          ]
        }
      ]
    },
    {
      "cell_type": "markdown",
      "source": [
        "## 25. Freight value vs delay"
      ],
      "metadata": {
        "id": "gdBvMvWR1IBb"
      }
    },
    {
      "cell_type": "code",
      "source": [
        "spark.sql(\"\"\"\n",
        "SELECT\n",
        "    freight_value,\n",
        "    DATEDIFF(order_delivered_customer_date, order_estimated_delivery_date) AS delay\n",
        "FROM orders\n",
        "WHERE order_delivered_customer_date IS NOT NULL\n",
        "\"\"\").show()"
      ],
      "metadata": {
        "colab": {
          "base_uri": "https://localhost:8080/"
        },
        "id": "KksG8M-e1KI0",
        "outputId": "06f2b4b8-fdcc-4f66-9040-01c031f783e0"
      },
      "execution_count": 40,
      "outputs": [
        {
          "output_type": "stream",
          "name": "stdout",
          "text": [
            "+-------------+-----+\n",
            "|freight_value|delay|\n",
            "+-------------+-----+\n",
            "|         8.72|   -8|\n",
            "|         8.72|   -8|\n",
            "|         8.72|   -8|\n",
            "|         7.78|  -10|\n",
            "|         7.78|   -8|\n",
            "|         14.1|   -6|\n",
            "|         7.79|   -7|\n",
            "|         7.79|   -3|\n",
            "|        14.28|  -14|\n",
            "|         7.79|  -11|\n",
            "|        14.28|  -13|\n",
            "|         7.78|   -7|\n",
            "|         7.78|   -7|\n",
            "|         7.78|  -11|\n",
            "|         7.78|   -7|\n",
            "|         7.78|   -7|\n",
            "|        11.73|   -9|\n",
            "|         15.1|  -12|\n",
            "|        11.73|   -8|\n",
            "|         7.78|   -8|\n",
            "+-------------+-----+\n",
            "only showing top 20 rows\n",
            "\n"
          ]
        }
      ]
    },
    {
      "cell_type": "markdown",
      "source": [
        "## 26. % of early, on-time, late deliveries by state"
      ],
      "metadata": {
        "id": "xfTepU_G1Lgv"
      }
    },
    {
      "cell_type": "code",
      "source": [
        "spark.sql(\"\"\"\n",
        "SELECT\n",
        "    customer_state,\n",
        "    SUM(CASE WHEN order_delivered_customer_date < order_estimated_delivery_date THEN 1 ELSE 0 END) AS early,\n",
        "    SUM(CASE WHEN order_delivered_customer_date = order_estimated_delivery_date THEN 1 ELSE 0 END) AS on_time,\n",
        "    SUM(CASE WHEN order_delivered_customer_date > order_estimated_delivery_date THEN 1 ELSE 0 END) AS late,\n",
        "    COUNT(*) AS total_orders,\n",
        "    ROUND(100 * SUM(CASE WHEN order_delivered_customer_date > order_estimated_delivery_date THEN 1 ELSE 0 END) / COUNT(*), 2) AS late_pct\n",
        "FROM orders\n",
        "GROUP BY customer_state\n",
        "ORDER BY late_pct DESC\n",
        "\"\"\").show()"
      ],
      "metadata": {
        "colab": {
          "base_uri": "https://localhost:8080/"
        },
        "id": "9lFu_DuA1NL6",
        "outputId": "115b3368-5ab5-4699-e25d-dcfaa484e606"
      },
      "execution_count": 41,
      "outputs": [
        {
          "output_type": "stream",
          "name": "stdout",
          "text": [
            "+--------------+-----+-------+----+------------+--------+\n",
            "|customer_state|early|on_time|late|total_orders|late_pct|\n",
            "+--------------+-----+-------+----+------------+--------+\n",
            "|            AL|  333|      0| 105|         438|   23.97|\n",
            "|            MA|  646|      0| 161|         807|   19.95|\n",
            "|            PI|  456|      0|  85|         541|   15.71|\n",
            "|            SE|  323|      0|  59|         382|   15.45|\n",
            "|            CE| 1263|      0| 217|        1480|   14.66|\n",
            "|            BA| 3323|      0| 522|        3845|   13.58|\n",
            "|            RJ|12703|      0|1866|       14569|   12.81|\n",
            "|            ES| 2001|      0| 267|        2268|   11.77|\n",
            "|            RN|  489|      0|  64|         553|   11.57|\n",
            "|            TO|  291|      0|  38|         329|   11.55|\n",
            "|            PA|  936|      0| 121|        1057|   11.45|\n",
            "|            RR|   39|      0|   5|          44|   11.36|\n",
            "|            PB|  539|      0|  66|         605|   10.91|\n",
            "|            MS|  748|      0|  89|         837|   10.63|\n",
            "|            PE| 1617|      0| 179|        1796|    9.97|\n",
            "|            SC| 3760|      0| 383|        4143|    9.24|\n",
            "|            GO| 2133|      0| 172|        2305|    7.46|\n",
            "|            DF| 2219|      0| 178|        2397|    7.43|\n",
            "|            RS| 5891|      0| 421|        6312|    6.67|\n",
            "|            MT|  992|      0|  68|        1060|    6.42|\n",
            "+--------------+-----+-------+----+------------+--------+\n",
            "only showing top 20 rows\n",
            "\n"
          ]
        }
      ]
    },
    {
      "cell_type": "markdown",
      "source": [
        "## 27. Peak delay periods"
      ],
      "metadata": {
        "id": "F-9k_Cv_1PxE"
      }
    },
    {
      "cell_type": "code",
      "source": [
        "spark.sql(\"\"\"\n",
        "SELECT\n",
        "    DATE(order_delivered_customer_date) AS delivery_date,\n",
        "    COUNT(*) AS delayed_orders\n",
        "FROM orders\n",
        "WHERE order_delivered_customer_date > order_estimated_delivery_date\n",
        "GROUP BY delivery_date\n",
        "ORDER BY delayed_orders DESC\n",
        "LIMIT 10\n",
        "\"\"\").show()"
      ],
      "metadata": {
        "colab": {
          "base_uri": "https://localhost:8080/"
        },
        "id": "fXizoiJ_1QXG",
        "outputId": "e8803bad-6a72-48ba-eb84-c5c933ffa4df"
      },
      "execution_count": 42,
      "outputs": [
        {
          "output_type": "stream",
          "name": "stdout",
          "text": [
            "+-------------+--------------+\n",
            "|delivery_date|delayed_orders|\n",
            "+-------------+--------------+\n",
            "|   2018-04-03|           113|\n",
            "|   2018-03-23|           105|\n",
            "|   2018-03-29|           100|\n",
            "|   2018-04-04|           100|\n",
            "|   2018-04-10|            97|\n",
            "|   2018-03-28|            96|\n",
            "|   2018-04-18|            89|\n",
            "|   2018-04-11|            85|\n",
            "|   2018-03-27|            84|\n",
            "|   2017-12-19|            83|\n",
            "+-------------+--------------+\n",
            "\n"
          ]
        }
      ]
    },
    {
      "cell_type": "markdown",
      "source": [
        "## 28. Delay impact on repeat purchases"
      ],
      "metadata": {
        "id": "IY3iajOe1Rsi"
      }
    },
    {
      "cell_type": "code",
      "source": [
        "spark.sql(\"\"\"\n",
        "SELECT\n",
        "    customer_id,\n",
        "    COUNT(DISTINCT order_id) AS total_orders,\n",
        "    SUM(CASE WHEN order_delivered_customer_date > order_estimated_delivery_date THEN 1 ELSE 0 END) AS delayed_orders\n",
        "FROM orders\n",
        "GROUP BY customer_id\n",
        "HAVING total_orders > 1\n",
        "ORDER BY delayed_orders DESC\n",
        "\"\"\").show()"
      ],
      "metadata": {
        "colab": {
          "base_uri": "https://localhost:8080/"
        },
        "id": "OpjfesJ71Tj3",
        "outputId": "f25056b2-7801-4ab4-cb8c-13a5a7f2d418"
      },
      "execution_count": 43,
      "outputs": [
        {
          "output_type": "stream",
          "name": "stdout",
          "text": [
            "+-----------+------------+--------------+\n",
            "|customer_id|total_orders|delayed_orders|\n",
            "+-----------+------------+--------------+\n",
            "+-----------+------------+--------------+\n",
            "\n"
          ]
        }
      ]
    },
    {
      "cell_type": "markdown",
      "source": [
        "## 29. Avg delay per seller and product category"
      ],
      "metadata": {
        "id": "pPdnNGT11VrC"
      }
    },
    {
      "cell_type": "code",
      "source": [
        "spark.sql(\"\"\"\n",
        "SELECT\n",
        "    seller_id,\n",
        "    product_category_name,\n",
        "    ROUND(AVG(DATEDIFF(order_delivered_customer_date, order_estimated_delivery_date)), 2) AS avg_delay\n",
        "FROM orders\n",
        "WHERE order_delivered_customer_date > order_estimated_delivery_date\n",
        "GROUP BY seller_id, product_category_name\n",
        "ORDER BY avg_delay DESC\n",
        "\"\"\").show()"
      ],
      "metadata": {
        "colab": {
          "base_uri": "https://localhost:8080/"
        },
        "id": "gUHtxzwx1WQA",
        "outputId": "5ec18210-b831-42f5-8da6-cc219db4e1be"
      },
      "execution_count": 44,
      "outputs": [
        {
          "output_type": "stream",
          "name": "stdout",
          "text": [
            "+--------------------+---------------------+---------+\n",
            "|           seller_id|product_category_name|avg_delay|\n",
            "+--------------------+---------------------+---------+\n",
            "|df683dfda87bf71ac...|     moveis_decoracao|    167.0|\n",
            "|c847e075301870dd1...| instrumentos_musi...|    166.0|\n",
            "|e83c76265fc54bf41...|           automotivo|    159.0|\n",
            "|a7f13822ceb966b07...|    moveis_escritorio|    155.0|\n",
            "|4fb41dff7c5013697...|   relogios_presentes|    134.0|\n",
            "|1782ce2db72c3dda6...|        esporte_lazer|    132.0|\n",
            "|cac4c8e7b1ca6252d...| utilidades_domest...|    128.8|\n",
            "|95e03ca3d4146e401...|     moveis_decoracao|    110.0|\n",
            "|93dc87703c046b603...|   relogios_presentes|    106.0|\n",
            "|2a1348e9addc1af5a...|   ferramentas_jardim|    104.0|\n",
            "|056b4ada5bbc2c50c...|          eletronicos|    104.0|\n",
            "|7a91bf945c6fae077...|         beleza_saude|     97.0|\n",
            "|8cc6a0e5738e61a87...|            papelaria|     96.0|\n",
            "|e09887ca8c7bf8a46...|     moveis_decoracao|     91.0|\n",
            "|2a1348e9addc1af5a...|       consoles_games|     89.5|\n",
            "|054694fa03fe82cec...|   eletrodomesticos_2|     84.5|\n",
            "|9b522ba7eae9e1d04...|     moveis_decoracao|     80.0|\n",
            "|634964b17796e6430...|           automotivo|     79.0|\n",
            "|48436dade18ac8b2b...|           brinquedos|     78.0|\n",
            "|72146da5774cabf26...| sinalizacao_e_seg...|     76.0|\n",
            "+--------------------+---------------------+---------+\n",
            "only showing top 20 rows\n",
            "\n"
          ]
        }
      ]
    },
    {
      "cell_type": "markdown",
      "source": [
        "## 30. What is the average delay (in days) per seller and which 5 sellers have the highest cumulative delivery delays?"
      ],
      "metadata": {
        "id": "rMh6jy502T6Y"
      }
    },
    {
      "cell_type": "code",
      "source": [
        "spark.sql(\"\"\"\n",
        "SELECT\n",
        "    seller_id,\n",
        "    COUNT(order_id) AS total_orders,\n",
        "    ROUND(AVG(DATEDIFF(order_delivered_customer_date, order_estimated_delivery_date)), 2) AS avg_delay_days,\n",
        "    ROUND(SUM(DATEDIFF(order_delivered_customer_date, order_estimated_delivery_date)), 2) AS total_delay_days\n",
        "FROM orders\n",
        "WHERE order_status = 'delivered'\n",
        "  AND order_delivered_customer_date IS NOT NULL\n",
        "  AND order_estimated_delivery_date IS NOT NULL\n",
        "  AND DATEDIFF(order_delivered_customer_date, order_estimated_delivery_date) > 0\n",
        "GROUP BY seller_id\n",
        "ORDER BY total_delay_days DESC\n",
        "LIMIT 5\n",
        "\"\"\").show()\n"
      ],
      "metadata": {
        "colab": {
          "base_uri": "https://localhost:8080/"
        },
        "id": "AxsuxSfF1nw7",
        "outputId": "b9420bb0-4b64-4714-e919-9adf12ea69b4"
      },
      "execution_count": 45,
      "outputs": [
        {
          "output_type": "stream",
          "name": "stdout",
          "text": [
            "+--------------------+------------+--------------+----------------+\n",
            "|           seller_id|total_orders|avg_delay_days|total_delay_days|\n",
            "+--------------------+------------+--------------+----------------+\n",
            "|4a3ca9315b744ce9f...|         195|         11.46|            2235|\n",
            "|1f50f920176fa81da...|         160|         10.39|            1663|\n",
            "|7c67e1448b00f6e96...|         123|         11.76|            1446|\n",
            "|4869f7a5dfa277a7d...|         129|          9.58|            1236|\n",
            "|da8622b14eb17ae28...|          97|         10.56|            1024|\n",
            "+--------------------+------------+--------------+----------------+\n",
            "\n"
          ]
        }
      ]
    },
    {
      "cell_type": "code",
      "source": [],
      "metadata": {
        "id": "tGNURL6R2YyY"
      },
      "execution_count": null,
      "outputs": []
    }
  ]
}